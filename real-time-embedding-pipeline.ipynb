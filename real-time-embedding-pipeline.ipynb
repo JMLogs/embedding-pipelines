{
 "cells": [
  {
   "cell_type": "markdown",
   "metadata": {},
   "source": [
    "# How to Make an up to date AI chat bot\n",
    "\n",
    "ChatGPT and other AI chatbots are amazing, they can write blog posts, emails, fix bugs, document code and have been shown to complete tasks like planning trips all based off of natural language prompts. Despite all of the capabilities they fall short with respect to the most recent information of the world, out-of-domain knowledge or might provide incorrect information without the right prompting.\n",
    "\n",
    "The solution to helping the language model with those areas that it falls short is sophisticated prompt templating and injecting information into the context. For example, if I were to ask chatGPT, \n",
    "\n",
    ">\"What happened with Meta in the news today?\" \n",
    "\n",
    "I would get the response:\n",
    "\n",
    "> \"I'm sorry, but my training data only goes up until September 2021, and I'm unable to provide real-time news updates. To find out the latest news about Meta (formerly known as Facebook), please visit a reliable news website or search for \"Meta news\" in your preferred search engine.\"\n",
    "\n",
    "But I could solve this problem by providing more information as context and the right prompt. For example I could copy and paste an article and change the prompt to something like:\n",
    "\n",
    "> \"Given this article from today: `Article about META in the news today`. Answer the following: What happened with Meta in the news today?\"\n",
    "\n",
    "I now get the response:\n",
    "\n",
    "> \"In the news today, Elon Musk, the CEO of Tesla and owner of Twitter, has accused Meta's messaging app, WhatsApp, of being untrustworthy. The accusation was based on a tweet by a Twitter engineer, Foad Dabiri, who claimed that WhatsApp had been using the microphone in the background without their knowledge. Musk pointed out that WhatsApp cannot be trusted and reminded people that WhatsApp is owned by Meta (previously Facebook) and that its founders left Meta in disagreement over its policies and decisions, particularly regarding personal data processing. This news may have an impact on Meta's public image and its platforms, as trust and privacy are crucial factors for users of social media and messaging apps.\"\n",
    "\n",
    "This is basic and over simplified, but the idea is that we can help the language model provide what we ultimately want with a little bit of work asking the right things and giving it the right information as context. \n",
    "\n",
    "Since we understand that this works for our one-off use case, how can we make something that will scale to many questions about different subjects? This is where vector databases and embeddings come into play.\n",
    "\n",
    "## What is an embedding and a vector database?\n",
    "\n",
    "An embedding is simply a representation of something as a vector, or in other words a list of numbers. It is a way to intelligently turn categorical things into numerical representations so that we can reason about them in different ways, like determine how similar they are group them in multi-dimensional space. A vector database is a database that allows us to store our embeddings as vectors so that we can efficiently retrieve them. Since the vectors can be compared for similarity, our query against the database will be able to return the most similar items.\n",
    "\n",
    "So if we can consume news as it is created, create embeddings to represent the news and then store it in a vector database. When we ask a question we will be able pull the articles most similar to our query, give them to a large language model as context and then ask the language model to provide us with information. \n",
    "\n",
    "To support the ingestion, we will need to make a pipeline that is capable of ingesting data in real-time, processing it, running it against an ML model to create an embedding and then write it to a veector database. We can use Bytewax as the real-time processing framework.\n",
    "\n",
    "## Building the pipeline\n",
    "\n",
    "We are going to leverage Bytewax to create a real-time embedding pipeline from a live news source, in this case it is a financial news source via Alpaca. This pipeline could be scaled to consume many different news sources and aggregate them all into a vector database like Qdrant shown below."
   ]
  },
  {
   "cell_type": "code",
   "execution_count": 1,
   "metadata": {
    "colab": {
     "base_uri": "https://localhost:8080/"
    },
    "id": "5-h_nDGp3Kdf",
    "outputId": "94191443-3844-4c1d-a26f-7619d976a55b",
    "tags": []
   },
   "outputs": [
    {
     "name": "stdout",
     "output_type": "stream",
     "text": [
      "Requirement already satisfied: langchain==0.0.123 in /Users/awmatheson/anaconda3/envs/news-analyzer/lib/python3.10/site-packages (from -r requirements.txt (line 1)) (0.0.123)\n",
      "Requirement already satisfied: redis==4.5.3 in /Users/awmatheson/anaconda3/envs/news-analyzer/lib/python3.10/site-packages (from -r requirements.txt (line 2)) (4.5.3)\n",
      "Requirement already satisfied: openai==0.27.2 in /Users/awmatheson/anaconda3/envs/news-analyzer/lib/python3.10/site-packages (from -r requirements.txt (line 3)) (0.27.2)\n",
      "Requirement already satisfied: numpy in /Users/awmatheson/anaconda3/envs/news-analyzer/lib/python3.10/site-packages (from -r requirements.txt (line 4)) (1.23.5)\n",
      "Requirement already satisfied: pandas in /Users/awmatheson/anaconda3/envs/news-analyzer/lib/python3.10/site-packages (from -r requirements.txt (line 5)) (1.5.3)\n",
      "Requirement already satisfied: gdown in /Users/awmatheson/anaconda3/envs/news-analyzer/lib/python3.10/site-packages (from -r requirements.txt (line 6)) (4.7.1)\n",
      "Requirement already satisfied: bytewax==0.16.0 in /Users/awmatheson/anaconda3/envs/news-analyzer/lib/python3.10/site-packages (from -r requirements.txt (line 7)) (0.16.0)\n",
      "Requirement already satisfied: transformers==4.26.1 in /Users/awmatheson/anaconda3/envs/news-analyzer/lib/python3.10/site-packages (from -r requirements.txt (line 8)) (4.26.1)\n",
      "Requirement already satisfied: torch==1.13.1 in /Users/awmatheson/anaconda3/envs/news-analyzer/lib/python3.10/site-packages (from -r requirements.txt (line 9)) (1.13.1)\n",
      "Requirement already satisfied: sentencepiece==0.1.97 in /Users/awmatheson/anaconda3/envs/news-analyzer/lib/python3.10/site-packages (from -r requirements.txt (line 10)) (0.1.97)\n",
      "Requirement already satisfied: websocket-client in /Users/awmatheson/anaconda3/envs/news-analyzer/lib/python3.10/site-packages (from -r requirements.txt (line 11)) (1.5.1)\n",
      "Requirement already satisfied: PyYAML>=5.4.1 in /Users/awmatheson/anaconda3/envs/news-analyzer/lib/python3.10/site-packages (from langchain==0.0.123->-r requirements.txt (line 1)) (6.0)\n",
      "Requirement already satisfied: SQLAlchemy<2,>=1 in /Users/awmatheson/anaconda3/envs/news-analyzer/lib/python3.10/site-packages (from langchain==0.0.123->-r requirements.txt (line 1)) (1.4.47)\n",
      "Requirement already satisfied: tenacity<9.0.0,>=8.1.0 in /Users/awmatheson/anaconda3/envs/news-analyzer/lib/python3.10/site-packages (from langchain==0.0.123->-r requirements.txt (line 1)) (8.2.2)\n",
      "Requirement already satisfied: requests<3,>=2 in /Users/awmatheson/anaconda3/envs/news-analyzer/lib/python3.10/site-packages (from langchain==0.0.123->-r requirements.txt (line 1)) (2.28.2)\n",
      "Requirement already satisfied: dataclasses-json<0.6.0,>=0.5.7 in /Users/awmatheson/anaconda3/envs/news-analyzer/lib/python3.10/site-packages (from langchain==0.0.123->-r requirements.txt (line 1)) (0.5.7)\n",
      "Requirement already satisfied: aiohttp<4.0.0,>=3.8.3 in /Users/awmatheson/anaconda3/envs/news-analyzer/lib/python3.10/site-packages (from langchain==0.0.123->-r requirements.txt (line 1)) (3.8.4)\n",
      "Requirement already satisfied: pydantic<2,>=1 in /Users/awmatheson/anaconda3/envs/news-analyzer/lib/python3.10/site-packages (from langchain==0.0.123->-r requirements.txt (line 1)) (1.10.7)\n",
      "Requirement already satisfied: async-timeout>=4.0.2 in /Users/awmatheson/anaconda3/envs/news-analyzer/lib/python3.10/site-packages (from redis==4.5.3->-r requirements.txt (line 2)) (4.0.2)\n",
      "Requirement already satisfied: tqdm in /Users/awmatheson/anaconda3/envs/news-analyzer/lib/python3.10/site-packages (from openai==0.27.2->-r requirements.txt (line 3)) (4.65.0)\n",
      "Requirement already satisfied: huggingface-hub<1.0,>=0.11.0 in /Users/awmatheson/anaconda3/envs/news-analyzer/lib/python3.10/site-packages (from transformers==4.26.1->-r requirements.txt (line 8)) (0.12.1)\n",
      "Requirement already satisfied: filelock in /Users/awmatheson/anaconda3/envs/news-analyzer/lib/python3.10/site-packages (from transformers==4.26.1->-r requirements.txt (line 8)) (3.9.0)\n",
      "Requirement already satisfied: regex!=2019.12.17 in /Users/awmatheson/anaconda3/envs/news-analyzer/lib/python3.10/site-packages (from transformers==4.26.1->-r requirements.txt (line 8)) (2022.10.31)\n",
      "Requirement already satisfied: tokenizers!=0.11.3,<0.14,>=0.11.1 in /Users/awmatheson/anaconda3/envs/news-analyzer/lib/python3.10/site-packages (from transformers==4.26.1->-r requirements.txt (line 8)) (0.13.2)\n",
      "Requirement already satisfied: packaging>=20.0 in /Users/awmatheson/anaconda3/envs/news-analyzer/lib/python3.10/site-packages (from transformers==4.26.1->-r requirements.txt (line 8)) (23.0)\n",
      "Requirement already satisfied: typing-extensions in /Users/awmatheson/anaconda3/envs/news-analyzer/lib/python3.10/site-packages (from torch==1.13.1->-r requirements.txt (line 9)) (4.5.0)\n",
      "Requirement already satisfied: pytz>=2020.1 in /Users/awmatheson/anaconda3/envs/news-analyzer/lib/python3.10/site-packages (from pandas->-r requirements.txt (line 5)) (2023.3)\n",
      "Requirement already satisfied: python-dateutil>=2.8.1 in /Users/awmatheson/anaconda3/envs/news-analyzer/lib/python3.10/site-packages (from pandas->-r requirements.txt (line 5)) (2.8.2)\n",
      "Requirement already satisfied: beautifulsoup4 in /Users/awmatheson/anaconda3/envs/news-analyzer/lib/python3.10/site-packages (from gdown->-r requirements.txt (line 6)) (4.12.2)\n",
      "Requirement already satisfied: six in /Users/awmatheson/anaconda3/envs/news-analyzer/lib/python3.10/site-packages (from gdown->-r requirements.txt (line 6)) (1.16.0)\n",
      "Requirement already satisfied: multidict<7.0,>=4.5 in /Users/awmatheson/anaconda3/envs/news-analyzer/lib/python3.10/site-packages (from aiohttp<4.0.0,>=3.8.3->langchain==0.0.123->-r requirements.txt (line 1)) (6.0.4)\n",
      "Requirement already satisfied: attrs>=17.3.0 in /Users/awmatheson/anaconda3/envs/news-analyzer/lib/python3.10/site-packages (from aiohttp<4.0.0,>=3.8.3->langchain==0.0.123->-r requirements.txt (line 1)) (23.1.0)\n",
      "Requirement already satisfied: yarl<2.0,>=1.0 in /Users/awmatheson/anaconda3/envs/news-analyzer/lib/python3.10/site-packages (from aiohttp<4.0.0,>=3.8.3->langchain==0.0.123->-r requirements.txt (line 1)) (1.8.2)\n",
      "Requirement already satisfied: frozenlist>=1.1.1 in /Users/awmatheson/anaconda3/envs/news-analyzer/lib/python3.10/site-packages (from aiohttp<4.0.0,>=3.8.3->langchain==0.0.123->-r requirements.txt (line 1)) (1.3.3)\n",
      "Requirement already satisfied: aiosignal>=1.1.2 in /Users/awmatheson/anaconda3/envs/news-analyzer/lib/python3.10/site-packages (from aiohttp<4.0.0,>=3.8.3->langchain==0.0.123->-r requirements.txt (line 1)) (1.3.1)\n",
      "Requirement already satisfied: charset-normalizer<4.0,>=2.0 in /Users/awmatheson/anaconda3/envs/news-analyzer/lib/python3.10/site-packages (from aiohttp<4.0.0,>=3.8.3->langchain==0.0.123->-r requirements.txt (line 1)) (3.1.0)\n",
      "Requirement already satisfied: marshmallow-enum<2.0.0,>=1.5.1 in /Users/awmatheson/anaconda3/envs/news-analyzer/lib/python3.10/site-packages (from dataclasses-json<0.6.0,>=0.5.7->langchain==0.0.123->-r requirements.txt (line 1)) (1.5.1)\n",
      "Requirement already satisfied: marshmallow<4.0.0,>=3.3.0 in /Users/awmatheson/anaconda3/envs/news-analyzer/lib/python3.10/site-packages (from dataclasses-json<0.6.0,>=0.5.7->langchain==0.0.123->-r requirements.txt (line 1)) (3.19.0)\n",
      "Requirement already satisfied: typing-inspect>=0.4.0 in /Users/awmatheson/anaconda3/envs/news-analyzer/lib/python3.10/site-packages (from dataclasses-json<0.6.0,>=0.5.7->langchain==0.0.123->-r requirements.txt (line 1)) (0.8.0)\n",
      "Requirement already satisfied: certifi>=2017.4.17 in /Users/awmatheson/anaconda3/envs/news-analyzer/lib/python3.10/site-packages (from requests<3,>=2->langchain==0.0.123->-r requirements.txt (line 1)) (2022.12.7)\n",
      "Requirement already satisfied: urllib3<1.27,>=1.21.1 in /Users/awmatheson/anaconda3/envs/news-analyzer/lib/python3.10/site-packages (from requests<3,>=2->langchain==0.0.123->-r requirements.txt (line 1)) (1.26.14)\n",
      "Requirement already satisfied: idna<4,>=2.5 in /Users/awmatheson/anaconda3/envs/news-analyzer/lib/python3.10/site-packages (from requests<3,>=2->langchain==0.0.123->-r requirements.txt (line 1)) (3.4)\n",
      "Requirement already satisfied: greenlet!=0.4.17 in /Users/awmatheson/anaconda3/envs/news-analyzer/lib/python3.10/site-packages (from SQLAlchemy<2,>=1->langchain==0.0.123->-r requirements.txt (line 1)) (2.0.2)\n"
     ]
    },
    {
     "name": "stdout",
     "output_type": "stream",
     "text": [
      "Requirement already satisfied: soupsieve>1.2 in /Users/awmatheson/anaconda3/envs/news-analyzer/lib/python3.10/site-packages (from beautifulsoup4->gdown->-r requirements.txt (line 6)) (2.4.1)\n",
      "Requirement already satisfied: PySocks!=1.5.7,>=1.5.6 in /Users/awmatheson/anaconda3/envs/news-analyzer/lib/python3.10/site-packages (from requests<3,>=2->langchain==0.0.123->-r requirements.txt (line 1)) (1.7.1)\n",
      "Requirement already satisfied: mypy-extensions>=0.3.0 in /Users/awmatheson/anaconda3/envs/news-analyzer/lib/python3.10/site-packages (from typing-inspect>=0.4.0->dataclasses-json<0.6.0,>=0.5.7->langchain==0.0.123->-r requirements.txt (line 1)) (1.0.0)\n",
      "Requirement already satisfied: unstructured in /Users/awmatheson/anaconda3/envs/news-analyzer/lib/python3.10/site-packages (0.6.2)\n",
      "Requirement already satisfied: transformers in /Users/awmatheson/anaconda3/envs/news-analyzer/lib/python3.10/site-packages (4.26.1)\n",
      "Requirement already satisfied: torch in /Users/awmatheson/anaconda3/envs/news-analyzer/lib/python3.10/site-packages (1.13.1)\n",
      "Requirement already satisfied: sentencepiece in /Users/awmatheson/anaconda3/envs/news-analyzer/lib/python3.10/site-packages (0.1.97)\n",
      "Requirement already satisfied: pydantic in /Users/awmatheson/anaconda3/envs/news-analyzer/lib/python3.10/site-packages (1.10.7)\n",
      "Requirement already satisfied: lxml in /Users/awmatheson/anaconda3/envs/news-analyzer/lib/python3.10/site-packages (from unstructured) (4.9.2)\n",
      "Requirement already satisfied: pypandoc in /Users/awmatheson/anaconda3/envs/news-analyzer/lib/python3.10/site-packages (from unstructured) (1.11)\n",
      "Requirement already satisfied: python-magic in /Users/awmatheson/anaconda3/envs/news-analyzer/lib/python3.10/site-packages (from unstructured) (0.4.27)\n",
      "Requirement already satisfied: python-docx in /Users/awmatheson/anaconda3/envs/news-analyzer/lib/python3.10/site-packages (from unstructured) (0.8.11)\n",
      "Requirement already satisfied: openpyxl in /Users/awmatheson/anaconda3/envs/news-analyzer/lib/python3.10/site-packages (from unstructured) (3.1.2)\n",
      "Requirement already satisfied: nltk in /Users/awmatheson/anaconda3/envs/news-analyzer/lib/python3.10/site-packages (from unstructured) (3.8.1)\n",
      "Requirement already satisfied: requests in /Users/awmatheson/anaconda3/envs/news-analyzer/lib/python3.10/site-packages (from unstructured) (2.28.2)\n",
      "Requirement already satisfied: pandas in /Users/awmatheson/anaconda3/envs/news-analyzer/lib/python3.10/site-packages (from unstructured) (1.5.3)\n",
      "Requirement already satisfied: pillow in /Users/awmatheson/anaconda3/envs/news-analyzer/lib/python3.10/site-packages (from unstructured) (9.5.0)\n",
      "Requirement already satisfied: certifi>=2022.12.07 in /Users/awmatheson/anaconda3/envs/news-analyzer/lib/python3.10/site-packages (from unstructured) (2022.12.7)\n",
      "Requirement already satisfied: markdown in /Users/awmatheson/anaconda3/envs/news-analyzer/lib/python3.10/site-packages (from unstructured) (3.4.3)\n",
      "Requirement already satisfied: argilla in /Users/awmatheson/anaconda3/envs/news-analyzer/lib/python3.10/site-packages (from unstructured) (1.6.0)\n",
      "Requirement already satisfied: python-pptx in /Users/awmatheson/anaconda3/envs/news-analyzer/lib/python3.10/site-packages (from unstructured) (0.6.21)\n",
      "Requirement already satisfied: msg-parser in /Users/awmatheson/anaconda3/envs/news-analyzer/lib/python3.10/site-packages (from unstructured) (1.2.0)\n",
      "Requirement already satisfied: numpy>=1.17 in /Users/awmatheson/anaconda3/envs/news-analyzer/lib/python3.10/site-packages (from transformers) (1.23.5)\n",
      "Requirement already satisfied: huggingface-hub<1.0,>=0.11.0 in /Users/awmatheson/anaconda3/envs/news-analyzer/lib/python3.10/site-packages (from transformers) (0.12.1)\n",
      "Requirement already satisfied: regex!=2019.12.17 in /Users/awmatheson/anaconda3/envs/news-analyzer/lib/python3.10/site-packages (from transformers) (2022.10.31)\n",
      "Requirement already satisfied: packaging>=20.0 in /Users/awmatheson/anaconda3/envs/news-analyzer/lib/python3.10/site-packages (from transformers) (23.0)\n",
      "Requirement already satisfied: tqdm>=4.27 in /Users/awmatheson/anaconda3/envs/news-analyzer/lib/python3.10/site-packages (from transformers) (4.65.0)\n",
      "Requirement already satisfied: filelock in /Users/awmatheson/anaconda3/envs/news-analyzer/lib/python3.10/site-packages (from transformers) (3.9.0)\n",
      "Requirement already satisfied: tokenizers!=0.11.3,<0.14,>=0.11.1 in /Users/awmatheson/anaconda3/envs/news-analyzer/lib/python3.10/site-packages (from transformers) (0.13.2)\n",
      "Requirement already satisfied: pyyaml>=5.1 in /Users/awmatheson/anaconda3/envs/news-analyzer/lib/python3.10/site-packages (from transformers) (6.0)\n",
      "Requirement already satisfied: typing-extensions in /Users/awmatheson/anaconda3/envs/news-analyzer/lib/python3.10/site-packages (from torch) (4.5.0)\n",
      "Requirement already satisfied: httpx<0.24,>=0.15 in /Users/awmatheson/anaconda3/envs/news-analyzer/lib/python3.10/site-packages (from argilla->unstructured) (0.23.3)\n",
      "Requirement already satisfied: deprecated~=1.2.0 in /Users/awmatheson/anaconda3/envs/news-analyzer/lib/python3.10/site-packages (from argilla->unstructured) (1.2.13)\n",
      "Requirement already satisfied: backoff in /Users/awmatheson/anaconda3/envs/news-analyzer/lib/python3.10/site-packages (from argilla->unstructured) (2.2.1)\n",
      "Requirement already satisfied: monotonic in /Users/awmatheson/anaconda3/envs/news-analyzer/lib/python3.10/site-packages (from argilla->unstructured) (1.6)\n",
      "Requirement already satisfied: rich<=13.0.1 in /Users/awmatheson/anaconda3/envs/news-analyzer/lib/python3.10/site-packages (from argilla->unstructured) (13.0.1)\n",
      "Requirement already satisfied: wrapt<1.15,>=1.13 in /Users/awmatheson/anaconda3/envs/news-analyzer/lib/python3.10/site-packages (from argilla->unstructured) (1.14.1)\n",
      "Requirement already satisfied: python-dateutil>=2.8.1 in /Users/awmatheson/anaconda3/envs/news-analyzer/lib/python3.10/site-packages (from pandas->unstructured) (2.8.2)\n",
      "Requirement already satisfied: pytz>=2020.1 in /Users/awmatheson/anaconda3/envs/news-analyzer/lib/python3.10/site-packages (from pandas->unstructured) (2023.3)\n",
      "Requirement already satisfied: olefile>=0.46 in /Users/awmatheson/anaconda3/envs/news-analyzer/lib/python3.10/site-packages (from msg-parser->unstructured) (0.46)\n",
      "Requirement already satisfied: click in /Users/awmatheson/anaconda3/envs/news-analyzer/lib/python3.10/site-packages (from nltk->unstructured) (8.1.3)\n",
      "Requirement already satisfied: joblib in /Users/awmatheson/anaconda3/envs/news-analyzer/lib/python3.10/site-packages (from nltk->unstructured) (1.2.0)\n",
      "Requirement already satisfied: et-xmlfile in /Users/awmatheson/anaconda3/envs/news-analyzer/lib/python3.10/site-packages (from openpyxl->unstructured) (1.1.0)\n",
      "Requirement already satisfied: XlsxWriter>=0.5.7 in /Users/awmatheson/anaconda3/envs/news-analyzer/lib/python3.10/site-packages (from python-pptx->unstructured) (3.1.0)\n",
      "Requirement already satisfied: urllib3<1.27,>=1.21.1 in /Users/awmatheson/anaconda3/envs/news-analyzer/lib/python3.10/site-packages (from requests->unstructured) (1.26.14)\n",
      "Requirement already satisfied: charset-normalizer<4,>=2 in /Users/awmatheson/anaconda3/envs/news-analyzer/lib/python3.10/site-packages (from requests->unstructured) (3.1.0)\n",
      "Requirement already satisfied: idna<4,>=2.5 in /Users/awmatheson/anaconda3/envs/news-analyzer/lib/python3.10/site-packages (from requests->unstructured) (3.4)\n",
      "Requirement already satisfied: rfc3986[idna2008]<2,>=1.3 in /Users/awmatheson/anaconda3/envs/news-analyzer/lib/python3.10/site-packages (from httpx<0.24,>=0.15->argilla->unstructured) (1.5.0)\n",
      "Requirement already satisfied: httpcore<0.17.0,>=0.15.0 in /Users/awmatheson/anaconda3/envs/news-analyzer/lib/python3.10/site-packages (from httpx<0.24,>=0.15->argilla->unstructured) (0.16.3)\n",
      "Requirement already satisfied: sniffio in /Users/awmatheson/anaconda3/envs/news-analyzer/lib/python3.10/site-packages (from httpx<0.24,>=0.15->argilla->unstructured) (1.3.0)\n",
      "Requirement already satisfied: six>=1.5 in /Users/awmatheson/anaconda3/envs/news-analyzer/lib/python3.10/site-packages (from python-dateutil>=2.8.1->pandas->unstructured) (1.16.0)\n",
      "Requirement already satisfied: pygments<3.0.0,>=2.6.0 in /Users/awmatheson/anaconda3/envs/news-analyzer/lib/python3.10/site-packages (from rich<=13.0.1->argilla->unstructured) (2.15.1)\n",
      "Requirement already satisfied: commonmark<0.10.0,>=0.9.0 in /Users/awmatheson/anaconda3/envs/news-analyzer/lib/python3.10/site-packages (from rich<=13.0.1->argilla->unstructured) (0.9.1)\n"
     ]
    },
    {
     "name": "stdout",
     "output_type": "stream",
     "text": [
      "Requirement already satisfied: anyio<5.0,>=3.0 in /Users/awmatheson/anaconda3/envs/news-analyzer/lib/python3.10/site-packages (from httpcore<0.17.0,>=0.15.0->httpx<0.24,>=0.15->argilla->unstructured) (3.6.2)\n",
      "Requirement already satisfied: h11<0.15,>=0.13 in /Users/awmatheson/anaconda3/envs/news-analyzer/lib/python3.10/site-packages (from httpcore<0.17.0,>=0.15.0->httpx<0.24,>=0.15->argilla->unstructured) (0.14.0)\n",
      "Requirement already satisfied: qdrant-client==1.1.1 in /Users/awmatheson/anaconda3/envs/news-analyzer/lib/python3.10/site-packages (1.1.1)\n",
      "Requirement already satisfied: typing-extensions<5.0.0,>=4.0.0 in /Users/awmatheson/anaconda3/envs/news-analyzer/lib/python3.10/site-packages (from qdrant-client==1.1.1) (4.5.0)\n",
      "Requirement already satisfied: numpy>=1.21 in /Users/awmatheson/anaconda3/envs/news-analyzer/lib/python3.10/site-packages (from qdrant-client==1.1.1) (1.23.5)\n",
      "Requirement already satisfied: urllib3<2.0.0,>=1.26.14 in /Users/awmatheson/anaconda3/envs/news-analyzer/lib/python3.10/site-packages (from qdrant-client==1.1.1) (1.26.14)\n",
      "Requirement already satisfied: grpcio>=1.41.0 in /Users/awmatheson/anaconda3/envs/news-analyzer/lib/python3.10/site-packages (from qdrant-client==1.1.1) (1.54.0)\n",
      "Requirement already satisfied: grpcio-tools>=1.41.0 in /Users/awmatheson/anaconda3/envs/news-analyzer/lib/python3.10/site-packages (from qdrant-client==1.1.1) (1.54.0)\n",
      "Requirement already satisfied: pydantic<2.0,>=1.8 in /Users/awmatheson/anaconda3/envs/news-analyzer/lib/python3.10/site-packages (from qdrant-client==1.1.1) (1.10.7)\n",
      "Requirement already satisfied: httpx[http2]>=0.14.0 in /Users/awmatheson/anaconda3/envs/news-analyzer/lib/python3.10/site-packages (from qdrant-client==1.1.1) (0.23.3)\n",
      "Requirement already satisfied: setuptools in /Users/awmatheson/anaconda3/envs/news-analyzer/lib/python3.10/site-packages (from grpcio-tools>=1.41.0->qdrant-client==1.1.1) (65.6.3)\n",
      "Requirement already satisfied: protobuf<5.0dev,>=4.21.6 in /Users/awmatheson/anaconda3/envs/news-analyzer/lib/python3.10/site-packages (from grpcio-tools>=1.41.0->qdrant-client==1.1.1) (4.22.3)\n",
      "Requirement already satisfied: httpcore<0.17.0,>=0.15.0 in /Users/awmatheson/anaconda3/envs/news-analyzer/lib/python3.10/site-packages (from httpx[http2]>=0.14.0->qdrant-client==1.1.1) (0.16.3)\n",
      "Requirement already satisfied: rfc3986[idna2008]<2,>=1.3 in /Users/awmatheson/anaconda3/envs/news-analyzer/lib/python3.10/site-packages (from httpx[http2]>=0.14.0->qdrant-client==1.1.1) (1.5.0)\n",
      "Requirement already satisfied: certifi in /Users/awmatheson/anaconda3/envs/news-analyzer/lib/python3.10/site-packages (from httpx[http2]>=0.14.0->qdrant-client==1.1.1) (2022.12.7)\n",
      "Requirement already satisfied: sniffio in /Users/awmatheson/anaconda3/envs/news-analyzer/lib/python3.10/site-packages (from httpx[http2]>=0.14.0->qdrant-client==1.1.1) (1.3.0)\n",
      "Requirement already satisfied: h2<5,>=3 in /Users/awmatheson/anaconda3/envs/news-analyzer/lib/python3.10/site-packages (from httpx[http2]>=0.14.0->qdrant-client==1.1.1) (4.1.0)\n",
      "Requirement already satisfied: hpack<5,>=4.0 in /Users/awmatheson/anaconda3/envs/news-analyzer/lib/python3.10/site-packages (from h2<5,>=3->httpx[http2]>=0.14.0->qdrant-client==1.1.1) (4.0.0)\n",
      "Requirement already satisfied: hyperframe<7,>=6.0 in /Users/awmatheson/anaconda3/envs/news-analyzer/lib/python3.10/site-packages (from h2<5,>=3->httpx[http2]>=0.14.0->qdrant-client==1.1.1) (6.0.1)\n",
      "Requirement already satisfied: h11<0.15,>=0.13 in /Users/awmatheson/anaconda3/envs/news-analyzer/lib/python3.10/site-packages (from httpcore<0.17.0,>=0.15.0->httpx[http2]>=0.14.0->qdrant-client==1.1.1) (0.14.0)\n",
      "Requirement already satisfied: anyio<5.0,>=3.0 in /Users/awmatheson/anaconda3/envs/news-analyzer/lib/python3.10/site-packages (from httpcore<0.17.0,>=0.15.0->httpx[http2]>=0.14.0->qdrant-client==1.1.1) (3.6.2)\n",
      "Requirement already satisfied: idna in /Users/awmatheson/anaconda3/envs/news-analyzer/lib/python3.10/site-packages (from rfc3986[idna2008]<2,>=1.3->httpx[http2]>=0.14.0->qdrant-client==1.1.1) (3.4)\n"
     ]
    }
   ],
   "source": [
    "# Install requirements\n",
    "!pip install -r requirements.txt\n",
    "!pip install unstructured transformers torch sentencepiece pydantic\n",
    "!pip install qdrant-client==1.1.1"
   ]
  },
  {
   "cell_type": "markdown",
   "metadata": {},
   "source": [
    "To start we will define an input for the pipeline. The input is based of of the `StatelessSource` class and is taking input from Alpaca API which provides a websocket based input. Note that this will not be able to resume and data will be lost if the service goes down. "
   ]
  },
  {
   "cell_type": "code",
   "execution_count": 2,
   "metadata": {
    "tags": []
   },
   "outputs": [],
   "source": [
    "import os\n",
    "import json\n",
    "\n",
    "from bytewax.dataflow import Dataflow\n",
    "from bytewax.inputs import DynamicInput, StatelessSource\n",
    "from bytewax.connectors.stdio import StdOutput\n",
    "from websocket import create_connection  # pip install websocket-client\n",
    "\n",
    "API_KEY = os.getenv(\"API_KEY\")\n",
    "API_SECRET = os.getenv(\"API_SECRET\")\n",
    "\n",
    "class AlpacaSource(StatelessSource):\n",
    "    def __init__(self, worker_tickers):\n",
    "        self.worker_tickers = worker_tickers\n",
    "\n",
    "        self.ws = create_connection(\"wss://stream.data.alpaca.markets/v1beta1/news\")\n",
    "        print(self.ws.recv())\n",
    "        self.ws.send(\n",
    "            json.dumps(\n",
    "                {\"action\":\"auth\",\n",
    "                 \"key\":f\"{API_KEY}\",\n",
    "                 \"secret\":f\"{API_SECRET}\"}\n",
    "            )\n",
    "        )\n",
    "        print(self.ws.recv())\n",
    "        self.ws.send(\n",
    "            json.dumps(\n",
    "                {\"action\":\"subscribe\",\"news\":self.worker_tickers}\n",
    "            )\n",
    "        )\n",
    "        print(self.ws.recv())\n",
    "\n",
    "    def next(self):\n",
    "        return self.ws.recv()\n",
    "\n",
    "\n",
    "class AlpacaNewsInput(DynamicInput):\n",
    "    TICKERS = [\"*\"]\n",
    "\n",
    "    def build(self, worker_index, worker_count):\n",
    "        prods_per_worker = int(len(self.TICKERS) / worker_count)\n",
    "        worker_tickers = self.TICKERS[\n",
    "            int(worker_index * prods_per_worker) : int(\n",
    "                worker_index * prods_per_worker + prods_per_worker\n",
    "            )\n",
    "        ]\n",
    "        return AlpacaSource(worker_tickers)\n",
    "\n",
    "\n",
    "flow = Dataflow()\n",
    "flow.input(\"input\", AlpacaNewsInput())\n",
    "flow.inspect(print)\n",
    "\n"
   ]
  },
  {
   "cell_type": "markdown",
   "metadata": {},
   "source": [
    "## Preprocess data\n",
    "\n",
    "With our input configured, we will move on to processing our data. We will use pydantic to define a model for our document and then use unstructured to process the text. Finally, to finish preparing the data we will chunk the text into the appropriate lengths."
   ]
  },
  {
   "cell_type": "code",
   "execution_count": 3,
   "metadata": {},
   "outputs": [],
   "source": [
    "from unstructured.partition.html import partition_html\n",
    "from unstructured.cleaners.core import clean, replace_unicode_quotes, clean_non_ascii_chars\n",
    "from unstructured.staging.huggingface import chunk_by_attention_window\n",
    "\n",
    "from unstructured.staging.huggingface import stage_for_transformers\n",
    "\n",
    "from transformers import AutoTokenizer, AutoModel\n",
    "\n",
    "tokenizer = AutoTokenizer.from_pretrained(\"sentence-transformers/all-MiniLM-L6-v2\")\n",
    "model = AutoModel.from_pretrained(\"sentence-transformers/all-MiniLM-L6-v2\")"
   ]
  },
  {
   "cell_type": "code",
   "execution_count": 4,
   "metadata": {},
   "outputs": [],
   "source": [
    "news = [json.dumps([{\"T\":\"n\",\"id\":32052192,\"headline\":\"What\\u0026#39;s Going On With ContraFecta Stock Today\",\"summary\":\"\\n\\tContraFect Corporation (NASDAQ: CFRX) shares are trading higher Thursday morning. However, there is no specific news to justify the move.\\n\",\"author\":\"Vandana Singh\",\"created_at\":\"2023-04-27T18:24:49Z\",\"updated_at\":\"2023-04-27T18:24:49Z\",\"url\":\"https://www.benzinga.com/general/biotech/23/04/32052192/whats-going-on-with-contrafecta-stock-today\",\"content\":\"\\u003cul\\u003e\\r\\n\\t\\u003cli\\u003e\\u003cstrong\\u003eContraFect Corporation\\u0026nbsp;\\u003c/strong\\u003e(NASDAQ:\\u003ca class=\\\"ticker\\\" href=\\\"https://www.benzinga.com/stock/CFRX#NASDAQ\\\"\\u003eCFRX\\u003c/a\\u003e) shares are trading higher Thursday morning. However, there is no specific news to justify the move.\\u003c/li\\u003e\\r\\n\\t\\u003cli\\u003eWednesday morning, ContraFect\\u0026nbsp;\\u003ca class=\\\"editor-rtfLink\\\" href=\\\"https://www.benzinga.com/pressreleases/23/04/g32009856/contrafect-announces-first-patient-dosed-in-the-phase-1b2-study-of-exebacase-in-patients-with-chro\\\" style=\\\"color:#4a6ee0; background:transparent; margin-top:0pt; margin-bottom:0pt\\\" target=\\\"_blank\\\"\\u003eannounced the dosing\\u003c/a\\u003e\\u0026nbsp;of the first patient in Phase 1b/2 of exebacase in the setting of an arthroscopic debridement, antibiotics, irrigation, and retention procedure in patients with chronic prosthetic joint infections of the knee due to\\u0026nbsp;\\u003cem\\u003eStaphylococcus aureus\\u003c/em\\u003e\\u0026nbsp;or Coagulase-Negative Staphylococci.\\u003c/li\\u003e\\r\\n\\t\\u003cli\\u003eThe study was initiated\\u0026nbsp;\\u003ca class=\\\"editor-rtfLink\\\" href=\\\"https://www.benzinga.com/pressreleases/23/04/g31631700/contrafect-announces-initiation-of-a-phase-1b2-study-of-exebacase-in-patients-with-chronic-prosthe\\\" style=\\\"color:#4a6ee0; background:transparent; margin-top:0pt; margin-bottom:0pt\\\" target=\\\"_blank\\\"\\u003eearlier this month\\u003c/a\\u003e.\\u003c/li\\u003e\\r\\n\\t\\u003cli\\u003eContraFect stock is gaining on heavy volume, with a session volume of 55 million shares traded, compared to the trailing 100-day volume of 3.08 million shares.\\u003c/li\\u003e\\r\\n\\t\\u003cli\\u003eAccording to data from\\u0026nbsp;\\u003ca class=\\\"editor-rtfLink\\\" href=\\\"https://benzinga.grsm.io/register174\\\" style=\\\"color:#4a6ee0; background:transparent; margin-top:0pt; margin-bottom:0pt\\\" target=\\\"_blank\\\"\\u003eBenzinga Pro\\u003c/a\\u003e, CFRX has a 52-week high of $362.4 and a 52-week low of $0.90.\\u003c/li\\u003e\\r\\n\\t\\u003cli\\u003e\\u003cstrong\\u003ePrice Action:\\u003c/strong\\u003e\\u0026nbsp;CFRX shares are up 68.20% at $2.22 on the last check Thursday.\\u003c/li\\u003e\\r\\n\\u003c/ul\\u003e\\r\\n \",\"symbols\":[\"CFRX\"],\"source\":\"benzinga\"}])]"
   ]
  },
  {
   "cell_type": "code",
   "execution_count": 5,
   "metadata": {},
   "outputs": [],
   "source": [
    "import hashlib\n",
    "from pydantic import BaseModel\n",
    "from typing import Any, Optional\n",
    "\n",
    "class Document(BaseModel):\n",
    "    id: str\n",
    "    group_key: Optional[str] = None\n",
    "    metadata: Optional[dict] = {}\n",
    "    text: Optional[list]\n",
    "    embeddings: Optional[list] = []\n",
    "        \n",
    "\n",
    "flow.flat_map(lambda x: json.loads(x))\n",
    "\n",
    "\n",
    "# Clean the code and setup the dataclass\n",
    "def parse_article(_data):\n",
    "    document_id = hashlib.md5(_data['content'].encode()).hexdigest()\n",
    "    document = Document(id = document_id)\n",
    "    print(_data)\n",
    "    article_elements = partition_html(text=_data['content'])\n",
    "    print(article_elements)\n",
    "    _data['content'] = clean_non_ascii_chars(replace_unicode_quotes(clean(\" \".join([str(x) for x in article_elements]))))\n",
    "    _data['headline'] = clean_non_ascii_chars(replace_unicode_quotes(clean(_data['headline'])))\n",
    "    _data['summary'] = clean_non_ascii_chars(replace_unicode_quotes(clean(_data['summary'])))\n",
    "\n",
    "    document.text = [_data['headline'], _data['summary'], _data['content']]\n",
    "    document.metadata['headline'] = _data['headline']\n",
    "    document.metadata['summary'] = _data['summary']\n",
    "    document.metadata['url'] = _data['url']\n",
    "    document.metadata['symbols'] = _data['symbols']\n",
    "    document.metadata['author'] = _data['author']\n",
    "    document.metadata['created_at'] = _data['created_at']\n",
    "    return (document.id, document)\n",
    "\n",
    "flow.map(parse_article)\n",
    "\n",
    "# chunk the news article and summary\n",
    "def chunk(document_id__document):\n",
    "    document_id, document = document_id__document\n",
    "    chunks = []\n",
    "    for text in document.text:\n",
    "        chunks += chunk_by_attention_window(text, tokenizer)\n",
    "    \n",
    "    document.text = chunks\n",
    "    return(document_id, document)\n",
    "\n",
    "flow.map(chunk)\n",
    "    "
   ]
  },
  {
   "cell_type": "markdown",
   "metadata": {},
   "source": [
    "## Create Embeddings\n",
    "\n",
    "Embeddings are a vector representation of a sequence of things. It could be words, sound, letters, events. We are using a huggingface  model to transform our chunks of text into embeddings. These will be used later when we want to query for new information."
   ]
  },
  {
   "cell_type": "code",
   "execution_count": 6,
   "metadata": {},
   "outputs": [],
   "source": [
    "# create embedding and store in vector db\n",
    "def embedding(document_id__document):\n",
    "    document_id, document = document_id__document\n",
    "    for chunk in document.text:\n",
    "        inputs = tokenizer(chunk, padding=True, truncation=True, return_tensors=\"pt\", max_length=512)\n",
    "        result = model(**inputs)\n",
    "        embeddings = result.last_hidden_state[:, 0, :].cpu().detach().numpy()\n",
    "        lst = embeddings.flatten().tolist()\n",
    "        document.embeddings.append(lst)\n",
    "    return (document_id, document)\n",
    "    \n",
    "flow.map(embedding)\n",
    "    "
   ]
  },
  {
   "cell_type": "code",
   "execution_count": 7,
   "metadata": {},
   "outputs": [],
   "source": [
    "import datetime\n",
    "\n",
    "from bytewax.outputs import DynamicOutput, StatelessSink\n",
    "\n",
    "from qdrant_client import QdrantClient\n",
    "from qdrant_client.http.models import Distance, VectorParams\n",
    "from qdrant_client.models import PointStruct\n",
    "from qdrant_client.http.api_client import UnexpectedResponse\n",
    "\n",
    "\n",
    "class _QdrantVectorSink(StatelessSink):\n",
    "    \n",
    "    def __init__(self, client, collection_name):\n",
    "        self._client=client\n",
    "        self._collection_name=collection_name\n",
    "\n",
    "    def write(self, id_hash__doc):\n",
    "        id_hash, doc = id_hash__doc\n",
    "        _payload = doc.metadata\n",
    "        _payload.update({\"text\":doc.text})\n",
    "        self._client.upsert(\n",
    "            collection_name=self._collection_name,\n",
    "            points=[\n",
    "                PointStruct(\n",
    "                    id=idx,\n",
    "                    vector=vector,\n",
    "                    payload=_payload\n",
    "                )\n",
    "                for idx, vector in enumerate(doc.embeddings)\n",
    "            ]\n",
    "        )\n",
    "\n",
    "\n",
    "class QdrantVectorOutput(DynamicOutput):\n",
    "    \"\"\"Qdrant.\n",
    "\n",
    "    Workers are the unit of parallelism.\n",
    "\n",
    "    Can support at-least-once processing. Messages from the resume\n",
    "    epoch will be duplicated right after resume.\n",
    "\n",
    "    \"\"\"\n",
    "    def __init__(self, collection_name, vector_size, schema='', host='localhost', port=6333):\n",
    "        self.collection_name=collection_name\n",
    "        self.vector_size=vector_size\n",
    "        self.schema=schema\n",
    "        self.client=QdrantClient(host, port=6333)\n",
    "    \n",
    "        try: \n",
    "            self.client.get_collection(collection_name=\"test_collection\")\n",
    "        except UnexpectedResponse:\n",
    "            self.client.recreate_collection(\n",
    "                collection_name=\"test_collection\",\n",
    "                vectors_config=VectorParams(size=self.vector_size, distance=Distance.COSINE),\n",
    "                schema=self.schema\n",
    "            )\n",
    "\n",
    "    def build(self, worker_index, worker_count):\n",
    "        \n",
    "        return _QdrantVectorSink(self.client, self.collection_name)\n",
    "    \n",
    "\n",
    "flow.output(\"output\", QdrantVectorOutput(\"test_collection\", 384))\n",
    "\n"
   ]
  },
  {
   "cell_type": "code",
   "execution_count": 11,
   "metadata": {},
   "outputs": [
    {
     "name": "stdout",
     "output_type": "stream",
     "text": [
      "{'T': 'n', 'id': 32052192, 'headline': 'What&#39;s Going On With ContraFecta Stock Today', 'summary': '\\n\\tContraFect Corporation (NASDAQ: CFRX) shares are trading higher Thursday morning. However, there is no specific news to justify the move.\\n', 'author': 'Vandana Singh', 'created_at': '2023-04-27T18:24:49Z', 'updated_at': '2023-04-27T18:24:49Z', 'url': 'https://www.benzinga.com/general/biotech/23/04/32052192/whats-going-on-with-contrafecta-stock-today', 'content': '<ul>\\r\\n\\t<li><strong>ContraFect Corporation&nbsp;</strong>(NASDAQ:<a class=\"ticker\" href=\"https://www.benzinga.com/stock/CFRX#NASDAQ\">CFRX</a>) shares are trading higher Thursday morning. However, there is no specific news to justify the move.</li>\\r\\n\\t<li>Wednesday morning, ContraFect&nbsp;<a class=\"editor-rtfLink\" href=\"https://www.benzinga.com/pressreleases/23/04/g32009856/contrafect-announces-first-patient-dosed-in-the-phase-1b2-study-of-exebacase-in-patients-with-chro\" style=\"color:#4a6ee0; background:transparent; margin-top:0pt; margin-bottom:0pt\" target=\"_blank\">announced the dosing</a>&nbsp;of the first patient in Phase 1b/2 of exebacase in the setting of an arthroscopic debridement, antibiotics, irrigation, and retention procedure in patients with chronic prosthetic joint infections of the knee due to&nbsp;<em>Staphylococcus aureus</em>&nbsp;or Coagulase-Negative Staphylococci.</li>\\r\\n\\t<li>The study was initiated&nbsp;<a class=\"editor-rtfLink\" href=\"https://www.benzinga.com/pressreleases/23/04/g31631700/contrafect-announces-initiation-of-a-phase-1b2-study-of-exebacase-in-patients-with-chronic-prosthe\" style=\"color:#4a6ee0; background:transparent; margin-top:0pt; margin-bottom:0pt\" target=\"_blank\">earlier this month</a>.</li>\\r\\n\\t<li>ContraFect stock is gaining on heavy volume, with a session volume of 55 million shares traded, compared to the trailing 100-day volume of 3.08 million shares.</li>\\r\\n\\t<li>According to data from&nbsp;<a class=\"editor-rtfLink\" href=\"https://benzinga.grsm.io/register174\" style=\"color:#4a6ee0; background:transparent; margin-top:0pt; margin-bottom:0pt\" target=\"_blank\">Benzinga Pro</a>, CFRX has a 52-week high of $362.4 and a 52-week low of $0.90.</li>\\r\\n\\t<li><strong>Price Action:</strong>&nbsp;CFRX shares are up 68.20% at $2.22 on the last check Thursday.</li>\\r\\n</ul>\\r\\n ', 'symbols': ['CFRX'], 'source': 'benzinga'}\n",
      "[<unstructured.documents.elements.ListItem object at 0x7f790ad83100>, <unstructured.documents.elements.ListItem object at 0x7f790ad837c0>, <unstructured.documents.elements.ListItem object at 0x7f790ad83e20>, <unstructured.documents.elements.ListItem object at 0x7f790ad82500>, <unstructured.documents.elements.ListItem object at 0x7f790ad835e0>, <unstructured.documents.elements.ListItem object at 0x7f790ad83910>]\n"
     ]
    }
   ],
   "source": [
    "for articles in news:\n",
    "    for article in json.loads(articles):\n",
    "        out1 = parse_article(article)\n",
    "        out2 = chunk(out1)\n",
    "        out3 = embedding(out2)\n",
    "        output = QdrantVectorOutput(\"test_collection\", 384)\n",
    "        output_sink = output.build(1,1)\n",
    "        output_sink.write(out3)"
   ]
  },
  {
   "cell_type": "code",
   "execution_count": 12,
   "metadata": {},
   "outputs": [
    {
     "name": "stdout",
     "output_type": "stream",
     "text": [
      "[{\"T\":\"success\",\"msg\":\"connected\"}]\n",
      "[{\"T\":\"success\",\"msg\":\"authenticated\"}]\n",
      "[{\"T\":\"subscription\",\"news\":[\"*\"]}]\n",
      "[{\"T\":\"n\",\"id\":32167101,\"headline\":\"Bitcoin Defies Gravity: Grayscale\\u0026#39;s Bold Prediction Amid Rate Increase Fears\",\"summary\":\"As the price of Bitcoin (CRYPTO: BTC) experiences fluctuations ahead of the U.S.\",\"author\":\"Murtuza Merchant\",\"created_at\":\"2023-05-02T18:38:37Z\",\"updated_at\":\"2023-05-02T18:38:38Z\",\"url\":\"https://www.benzinga.com/markets/cryptocurrency/23/05/32167101/bitcoin-defies-gravity-grayscales-bold-prediction-amid-rate-increase-fears\",\"content\":\"\\u003cp\\u003eAs the price of \\u003cstrong\\u003eBitcoin \\u003c/strong\\u003e(CRYPTO: \\u003ca class=\\\"ticker\\\" href=\\\"https://www.benzinga.com/quote/btc/usd\\\"\\u003eBTC\\u003c/a\\u003e) experiences fluctuations ahead of the U.S. Federal Reserve\\u0026#39;s upcoming interest rate decision on Wednesday, \\u003cstrong\\u003eGrayscale \\u003c/strong\\u003ehas suggested\\u0026nbsp;cryptocurrency prices could still benefit from a rate increase, provided that the outcome \\u003ca href=\\\"https://www.benzinga.com/markets/cryptocurrency/23/04/32081554/could-microstrategys-bitcoin-stash-make-it-the-richest-company-in-the-world-2\\\"\\u003ealigns with market expectations\\u003c/a\\u003e.\\u003c/p\\u003e\\r\\n\\r\\n\\u003cp\\u003eBitcoin\\u0026#39;s price dropped 4.3% on Monday and is currently trading around $27,990, according to TradingView data. However, it recovered from the day\\u0026#39;s lows after MicroStrategy reported its results and reaffirmed its strong conviction in its Bitcoin strategy.\\u003c/p\\u003e\\r\\n\\r\\n\\u003cp\\u003eDespite falling approximately 1.8% over the past month, the world\\u0026#39;s largest cryptocurrency by market capitalization is still up 69% year-to-date.\\u003c/p\\u003e\\r\\n\\r\\n\\u003cp\\u003eThe Fed\\u0026nbsp;is expected to raise rates by 25 basis points, as indicated by CME\\u0026#39;s FedWatch tool.\\u003c/p\\u003e\\r\\n\\r\\n\\u003cp\\u003eGrayscale \\u003ca href=\\\"https://grayscale.com/monthly-report-2023-april-newsletter/\\\"\\u003eanalyzed\\u0026nbsp;\\u003c/a\\u003eBitcoin\\u0026#39;s volatility, highlighting the turbulence witnessed in the second half of April, and emphasized several key takeaways.\\u003c/p\\u003e\\r\\n\\r\\n\\u003cp\\u003e\\u003cem\\u003eAlso Read:\\u0026nbsp;\\u003ca href=\\\"https://www.benzinga.com/markets/cryptocurrency/23/05/32164902/intercompany-chaos-bankrupt-crypto-lender-celsius-uk-us-entities-a-facade\\\"\\u003e\\u0026#39;Intercompany Chaos\\u0026#39;: Bankrupt Crypto Lender Celsius\\u0026#39; UK, US Entities A Facade?\\u003c/a\\u003e\\u003c/em\\u003e\\u003c/p\\u003e\\r\\n\\r\\n\\u003cp\\u003eThe firm \\u003ca href=\\\"https://www.theblock.co/post/229014/crypto-prices-fed-hikes-grayscale\\\"\\u003enoted,\\u0026nbsp;\\u003c/a\\u003e\\u0026quot;Bitcoin may still be susceptible to a number of sentiment-driven factors that can be influenced by incorrect or incomplete information,\\u0026quot; citing a misleading Arkham alert as an example.\\u003c/p\\u003e\\r\\n\\r\\n\\u003cp\\u003eGrayscale also mentioned that the perceived actions of large holders can significantly impact Bitcoin\\u0026#39;s value.\\u003c/p\\u003e\\r\\n\\r\\n\\u003cp\\u003eNevertheless, Grayscale maintained\\u0026nbsp;factors such as an additional rate hike and declining inflation \\u0026quot;align well with a bullish case for Bitcoin in the future.\\u0026quot;\\u003c/p\\u003e\\r\\n\\r\\n\\u003cp\\u003eThe company also points out that the failures of several regional banks demonstrate \\u0026quot;investors continue to display an appetite for \\u003ca href=\\\"https://www.benzinga.com/markets/cryptocurrency/23/05/32127050/get-ready-for-change-us-government-to-ready-crypto-regulations\\\"\\u003ecrypto during times of economic uncertainty.\\u003c/a\\u003e\\u0026quot;\\u003c/p\\u003e\\r\\n\\r\\n\\u003cp\\u003e\\u003cem\\u003eRead Next:\\u0026nbsp;\\u003ca href=\\\"https://www.benzinga.com/markets/cryptocurrency/23/05/32161181/bitcoins-brc-20-token-explosion-market-cap-skyrockets-682-in-just-one-week\\\"\\u003eBitcoin\\u0026#39;s BRC-20 Token Explosion: Market Cap Skyrockets 682% In Just One Week\\u003c/a\\u003e\\u003c/em\\u003e\\u003c/p\\u003e\\r\\n\\r\\n\\u003cp\\u003e\\u003cem\\u003ePhoto: Shutterstock\\u003c/em\\u003e\\u003c/p\\u003e\\r\\n   \",\"symbols\":[\"BTCUSD\"],\"source\":\"benzinga\"}]\n",
      "{'T': 'n', 'id': 32167101, 'headline': 'Bitcoin Defies Gravity: Grayscale&#39;s Bold Prediction Amid Rate Increase Fears', 'summary': 'As the price of Bitcoin (CRYPTO: BTC) experiences fluctuations ahead of the U.S.', 'author': 'Murtuza Merchant', 'created_at': '2023-05-02T18:38:37Z', 'updated_at': '2023-05-02T18:38:38Z', 'url': 'https://www.benzinga.com/markets/cryptocurrency/23/05/32167101/bitcoin-defies-gravity-grayscales-bold-prediction-amid-rate-increase-fears', 'content': '<p>As the price of <strong>Bitcoin </strong>(CRYPTO: <a class=\"ticker\" href=\"https://www.benzinga.com/quote/btc/usd\">BTC</a>) experiences fluctuations ahead of the U.S. Federal Reserve&#39;s upcoming interest rate decision on Wednesday, <strong>Grayscale </strong>has suggested&nbsp;cryptocurrency prices could still benefit from a rate increase, provided that the outcome <a href=\"https://www.benzinga.com/markets/cryptocurrency/23/04/32081554/could-microstrategys-bitcoin-stash-make-it-the-richest-company-in-the-world-2\">aligns with market expectations</a>.</p>\\r\\n\\r\\n<p>Bitcoin&#39;s price dropped 4.3% on Monday and is currently trading around $27,990, according to TradingView data. However, it recovered from the day&#39;s lows after MicroStrategy reported its results and reaffirmed its strong conviction in its Bitcoin strategy.</p>\\r\\n\\r\\n<p>Despite falling approximately 1.8% over the past month, the world&#39;s largest cryptocurrency by market capitalization is still up 69% year-to-date.</p>\\r\\n\\r\\n<p>The Fed&nbsp;is expected to raise rates by 25 basis points, as indicated by CME&#39;s FedWatch tool.</p>\\r\\n\\r\\n<p>Grayscale <a href=\"https://grayscale.com/monthly-report-2023-april-newsletter/\">analyzed&nbsp;</a>Bitcoin&#39;s volatility, highlighting the turbulence witnessed in the second half of April, and emphasized several key takeaways.</p>\\r\\n\\r\\n<p><em>Also Read:&nbsp;<a href=\"https://www.benzinga.com/markets/cryptocurrency/23/05/32164902/intercompany-chaos-bankrupt-crypto-lender-celsius-uk-us-entities-a-facade\">&#39;Intercompany Chaos&#39;: Bankrupt Crypto Lender Celsius&#39; UK, US Entities A Facade?</a></em></p>\\r\\n\\r\\n<p>The firm <a href=\"https://www.theblock.co/post/229014/crypto-prices-fed-hikes-grayscale\">noted,&nbsp;</a>&quot;Bitcoin may still be susceptible to a number of sentiment-driven factors that can be influenced by incorrect or incomplete information,&quot; citing a misleading Arkham alert as an example.</p>\\r\\n\\r\\n<p>Grayscale also mentioned that the perceived actions of large holders can significantly impact Bitcoin&#39;s value.</p>\\r\\n\\r\\n<p>Nevertheless, Grayscale maintained&nbsp;factors such as an additional rate hike and declining inflation &quot;align well with a bullish case for Bitcoin in the future.&quot;</p>\\r\\n\\r\\n<p>The company also points out that the failures of several regional banks demonstrate &quot;investors continue to display an appetite for <a href=\"https://www.benzinga.com/markets/cryptocurrency/23/05/32127050/get-ready-for-change-us-government-to-ready-crypto-regulations\">crypto during times of economic uncertainty.</a>&quot;</p>\\r\\n\\r\\n<p><em>Read Next:&nbsp;<a href=\"https://www.benzinga.com/markets/cryptocurrency/23/05/32161181/bitcoins-brc-20-token-explosion-market-cap-skyrockets-682-in-just-one-week\">Bitcoin&#39;s BRC-20 Token Explosion: Market Cap Skyrockets 682% In Just One Week</a></em></p>\\r\\n\\r\\n<p><em>Photo: Shutterstock</em></p>\\r\\n   ', 'symbols': ['BTCUSD'], 'source': 'benzinga'}\n",
      "[<unstructured.documents.elements.NarrativeText object at 0x7f790ad840d0>, <unstructured.documents.elements.NarrativeText object at 0x7f790ad83ee0>, <unstructured.documents.elements.NarrativeText object at 0x7f790ad83880>, <unstructured.documents.elements.NarrativeText object at 0x7f790ad833a0>, <unstructured.documents.elements.NarrativeText object at 0x7f790ad82f20>, <unstructured.documents.elements.Title object at 0x7f790ad82da0>, <unstructured.documents.elements.NarrativeText object at 0x7f790ad82d40>, <unstructured.documents.elements.NarrativeText object at 0x7f790ad82ec0>, <unstructured.documents.elements.NarrativeText object at 0x7f790ad82fb0>, <unstructured.documents.elements.NarrativeText object at 0x7f790ad834c0>, <unstructured.documents.elements.Text object at 0x7f790ad82e00>, <unstructured.documents.elements.Title object at 0x7f790ad83940>]\n"
     ]
    },
    {
     "name": "stdout",
     "output_type": "stream",
     "text": [
      "[{\"T\":\"n\",\"id\":32167101,\"headline\":\"Bitcoin Defies Gravity: Grayscale\\u0026#39;s Bold Prediction Amid Rate Increase Fears\",\"summary\":\"As the price of Bitcoin (CRYPTO: BTC) experiences fluctuations ahead of the U.S.\",\"author\":\"Murtuza Merchant\",\"created_at\":\"2023-05-02T18:38:37Z\",\"updated_at\":\"2023-05-02T18:41:27Z\",\"url\":\"https://www.benzinga.com/markets/cryptocurrency/23/05/32167101/bitcoin-defies-gravity-grayscales-bold-prediction-amid-rate-increase-fears\",\"content\":\"\\u003cp\\u003eAs the price of \\u003cstrong\\u003eBitcoin \\u003c/strong\\u003e(CRYPTO: \\u003ca class=\\\"ticker\\\" href=\\\"https://www.benzinga.com/quote/btc/usd\\\"\\u003eBTC\\u003c/a\\u003e) experiences fluctuations ahead of the U.S. Federal Reserve\\u0026#39;s upcoming interest rate decision on Wednesday, \\u003cstrong\\u003eGrayscale \\u003c/strong\\u003ehas suggested\\u0026nbsp;cryptocurrency prices could still benefit from a rate increase, provided that the outcome \\u003ca href=\\\"https://www.benzinga.com/markets/cryptocurrency/23/04/32081554/could-microstrategys-bitcoin-stash-make-it-the-richest-company-in-the-world-2\\\"\\u003ealigns with market expectations\\u003c/a\\u003e.\\u003c/p\\u003e\\r\\n\\r\\n\\u003cp\\u003eBitcoin\\u0026#39;s price dropped 4.3% on Monday and is currently trading around $27,990, according to TradingView data. The crypto\\u0026nbsp;recovered\\u0026nbsp;from the day\\u0026#39;s lows after MicroStrategy reported its results and reaffirmed its strong conviction in its Bitcoin strategy.\\u003c/p\\u003e\\r\\n\\r\\n\\u003cp\\u003eDespite falling approximately 1.8% over the past month, the world\\u0026#39;s largest cryptocurrency by market capitalization is still up 69% year-to-date.\\u003c/p\\u003e\\r\\n\\r\\n\\u003cp\\u003eThe Fed\\u0026nbsp;is expected to raise rates by 25 basis points, as indicated by CME\\u0026#39;s FedWatch tool.\\u003c/p\\u003e\\r\\n\\r\\n\\u003cp\\u003eGrayscale \\u003ca href=\\\"https://grayscale.com/monthly-report-2023-april-newsletter/\\\"\\u003eanalyzed\\u0026nbsp;\\u003c/a\\u003eBitcoin\\u0026#39;s volatility, highlighting the turbulence witnessed in the second half of April, and emphasized several key takeaways.\\u003c/p\\u003e\\r\\n\\r\\n\\u003cp\\u003e\\u003cem\\u003eAlso Read:\\u0026nbsp;\\u003ca href=\\\"https://www.benzinga.com/markets/cryptocurrency/23/05/32164902/intercompany-chaos-bankrupt-crypto-lender-celsius-uk-us-entities-a-facade\\\"\\u003e\\u0026#39;Intercompany Chaos\\u0026#39;: Bankrupt Crypto Lender Celsius\\u0026#39; UK, US Entities A Facade?\\u003c/a\\u003e\\u003c/em\\u003e\\u003c/p\\u003e\\r\\n\\r\\n\\u003cp\\u003eThe firm \\u003ca href=\\\"https://www.theblock.co/post/229014/crypto-prices-fed-hikes-grayscale\\\"\\u003enoted,\\u0026nbsp;\\u003c/a\\u003e\\u0026quot;Bitcoin may still be susceptible to a number of sentiment-driven factors that can be influenced by incorrect or incomplete information,\\u0026quot; citing a misleading Arkham alert as an example.\\u003c/p\\u003e\\r\\n\\r\\n\\u003cp\\u003eGrayscale also mentioned that the perceived actions of large holders can significantly impact Bitcoin\\u0026#39;s value.\\u003c/p\\u003e\\r\\n\\r\\n\\u003cp\\u003eNevertheless, Grayscale maintained\\u0026nbsp;factors such as an additional rate hike and declining inflation \\u0026quot;align well with a bullish case for Bitcoin in the future.\\u0026quot;\\u003c/p\\u003e\\r\\n\\r\\n\\u003cp\\u003eThe company also points out that the failures of several regional banks demonstrate \\u0026quot;investors continue to display an appetite for \\u003ca href=\\\"https://www.benzinga.com/markets/cryptocurrency/23/05/32127050/get-ready-for-change-us-government-to-ready-crypto-regulations\\\"\\u003ecrypto during times of economic uncertainty.\\u003c/a\\u003e\\u0026quot;\\u003c/p\\u003e\\r\\n\\r\\n\\u003cp\\u003e\\u003cem\\u003eRead Next:\\u0026nbsp;\\u003ca href=\\\"https://www.benzinga.com/markets/cryptocurrency/23/05/32161181/bitcoins-brc-20-token-explosion-market-cap-skyrockets-682-in-just-one-week\\\"\\u003eBitcoin\\u0026#39;s BRC-20 Token Explosion: Market Cap Skyrockets 682% In Just One Week\\u003c/a\\u003e\\u003c/em\\u003e\\u003c/p\\u003e\\r\\n\\r\\n\\u003cp\\u003e\\u003cem\\u003ePhoto: Shutterstock\\u003c/em\\u003e\\u003c/p\\u003e\\r\\n \",\"symbols\":[\"BTCUSD\"],\"source\":\"benzinga\"}]\n",
      "{'T': 'n', 'id': 32167101, 'headline': 'Bitcoin Defies Gravity: Grayscale&#39;s Bold Prediction Amid Rate Increase Fears', 'summary': 'As the price of Bitcoin (CRYPTO: BTC) experiences fluctuations ahead of the U.S.', 'author': 'Murtuza Merchant', 'created_at': '2023-05-02T18:38:37Z', 'updated_at': '2023-05-02T18:41:27Z', 'url': 'https://www.benzinga.com/markets/cryptocurrency/23/05/32167101/bitcoin-defies-gravity-grayscales-bold-prediction-amid-rate-increase-fears', 'content': '<p>As the price of <strong>Bitcoin </strong>(CRYPTO: <a class=\"ticker\" href=\"https://www.benzinga.com/quote/btc/usd\">BTC</a>) experiences fluctuations ahead of the U.S. Federal Reserve&#39;s upcoming interest rate decision on Wednesday, <strong>Grayscale </strong>has suggested&nbsp;cryptocurrency prices could still benefit from a rate increase, provided that the outcome <a href=\"https://www.benzinga.com/markets/cryptocurrency/23/04/32081554/could-microstrategys-bitcoin-stash-make-it-the-richest-company-in-the-world-2\">aligns with market expectations</a>.</p>\\r\\n\\r\\n<p>Bitcoin&#39;s price dropped 4.3% on Monday and is currently trading around $27,990, according to TradingView data. The crypto&nbsp;recovered&nbsp;from the day&#39;s lows after MicroStrategy reported its results and reaffirmed its strong conviction in its Bitcoin strategy.</p>\\r\\n\\r\\n<p>Despite falling approximately 1.8% over the past month, the world&#39;s largest cryptocurrency by market capitalization is still up 69% year-to-date.</p>\\r\\n\\r\\n<p>The Fed&nbsp;is expected to raise rates by 25 basis points, as indicated by CME&#39;s FedWatch tool.</p>\\r\\n\\r\\n<p>Grayscale <a href=\"https://grayscale.com/monthly-report-2023-april-newsletter/\">analyzed&nbsp;</a>Bitcoin&#39;s volatility, highlighting the turbulence witnessed in the second half of April, and emphasized several key takeaways.</p>\\r\\n\\r\\n<p><em>Also Read:&nbsp;<a href=\"https://www.benzinga.com/markets/cryptocurrency/23/05/32164902/intercompany-chaos-bankrupt-crypto-lender-celsius-uk-us-entities-a-facade\">&#39;Intercompany Chaos&#39;: Bankrupt Crypto Lender Celsius&#39; UK, US Entities A Facade?</a></em></p>\\r\\n\\r\\n<p>The firm <a href=\"https://www.theblock.co/post/229014/crypto-prices-fed-hikes-grayscale\">noted,&nbsp;</a>&quot;Bitcoin may still be susceptible to a number of sentiment-driven factors that can be influenced by incorrect or incomplete information,&quot; citing a misleading Arkham alert as an example.</p>\\r\\n\\r\\n<p>Grayscale also mentioned that the perceived actions of large holders can significantly impact Bitcoin&#39;s value.</p>\\r\\n\\r\\n<p>Nevertheless, Grayscale maintained&nbsp;factors such as an additional rate hike and declining inflation &quot;align well with a bullish case for Bitcoin in the future.&quot;</p>\\r\\n\\r\\n<p>The company also points out that the failures of several regional banks demonstrate &quot;investors continue to display an appetite for <a href=\"https://www.benzinga.com/markets/cryptocurrency/23/05/32127050/get-ready-for-change-us-government-to-ready-crypto-regulations\">crypto during times of economic uncertainty.</a>&quot;</p>\\r\\n\\r\\n<p><em>Read Next:&nbsp;<a href=\"https://www.benzinga.com/markets/cryptocurrency/23/05/32161181/bitcoins-brc-20-token-explosion-market-cap-skyrockets-682-in-just-one-week\">Bitcoin&#39;s BRC-20 Token Explosion: Market Cap Skyrockets 682% In Just One Week</a></em></p>\\r\\n\\r\\n<p><em>Photo: Shutterstock</em></p>\\r\\n ', 'symbols': ['BTCUSD'], 'source': 'benzinga'}\n",
      "[<unstructured.documents.elements.NarrativeText object at 0x7f790ad74490>, <unstructured.documents.elements.NarrativeText object at 0x7f790ad75cf0>, <unstructured.documents.elements.NarrativeText object at 0x7f790ad74880>, <unstructured.documents.elements.NarrativeText object at 0x7f790ad75c30>, <unstructured.documents.elements.NarrativeText object at 0x7f790ad75ba0>, <unstructured.documents.elements.Title object at 0x7f790ad74dc0>, <unstructured.documents.elements.NarrativeText object at 0x7f790ad75b70>, <unstructured.documents.elements.NarrativeText object at 0x7f790ad746a0>, <unstructured.documents.elements.NarrativeText object at 0x7f790ad74760>, <unstructured.documents.elements.NarrativeText object at 0x7f790ad75c00>, <unstructured.documents.elements.Text object at 0x7f790ad749d0>, <unstructured.documents.elements.Title object at 0x7f790ad75db0>]\n"
     ]
    },
    {
     "name": "stdout",
     "output_type": "stream",
     "text": [
      "[{\"T\":\"n\",\"id\":32169840,\"headline\":\"How To Attend TransDigm Gr Q2 2023 Earnings Conference Call\",\"summary\":\" \",\"author\":\"Benzinga Insights\",\"created_at\":\"2023-05-02T18:45:10Z\",\"updated_at\":\"2023-05-02T18:45:10Z\",\"url\":\"https://www.benzinga.com/news/earnings/23/05/32169840/how-to-attend-transdigm-gr-q2-2023-earnings-conference-call\",\"content\":\"\\u003cp\\u003eTransDigm Gr (NYSE:\\u003ca class=\\\"ticker\\\" href=\\\"https://www.benzinga.com/stock/TDG#NYSE\\\"\\u003eTDG\\u003c/a\\u003e) will host a conference call at 11:00 AM ET on May 9, 2023, to discuss Q2 2023 earnings results.\\u003c/p\\u003e\\n\\u003ch3\\u003eHow to Attend TransDigm Gr (TDG) Conference Call\\u003c/h3\\u003e\\n\\u003cp\\u003e\\u003ca href=\\\"https://edge.media-server.com/mmc/p/3qt2zk2b\\\"\\u003eFollow this link to access the live webcast.\\u003c/a\\u003e\\u003c/p\\u003e\\n\\u003cp\\u003eTo listen to the call, dial  (US) or  (International)\\u003c/p\\u003e\\n\\u003ch3\\u003eWhat Is an Earnings Conference Call?\\u003c/h3\\u003e\\n\\u003cp\\u003eEarnings conference calls allow companies to talk about their recent earnings reports publicly, so that anyone who is interested can get more information on what happened and why it happened.\\u003c/p\\u003e\\n\\u003cp\\u003eDuring a call, a company will discuss future performance expectations as well as go over their quarterly financial results. Most investors have benefitted from listening closely to how management responds to questions, in order to get a feel for how confident they are in the company's current and future performance.\\u003c/p\\u003e\\n\\u003cp\\u003eIf you want to take a deeper dive into TransDigm Gr earnings, \\u003ca href=\\\"https://www.benzinga.com/quote/TDG/earnings\\\"\\u003eyou can follow their earnings on Benzinga.\\u003c/a\\u003e\\u003c/p\\u003e\\n\\u003cp\\u003e\\u003cem\\u003eThis article was generated by Benzinga's automated content engine and reviewed by an editor\\u003c/em\\u003e\\u003c/p\\u003e\",\"symbols\":[\"TDG\"],\"source\":\"benzinga\"}]\n",
      "{'T': 'n', 'id': 32169840, 'headline': 'How To Attend TransDigm Gr Q2 2023 Earnings Conference Call', 'summary': ' ', 'author': 'Benzinga Insights', 'created_at': '2023-05-02T18:45:10Z', 'updated_at': '2023-05-02T18:45:10Z', 'url': 'https://www.benzinga.com/news/earnings/23/05/32169840/how-to-attend-transdigm-gr-q2-2023-earnings-conference-call', 'content': '<p>TransDigm Gr (NYSE:<a class=\"ticker\" href=\"https://www.benzinga.com/stock/TDG#NYSE\">TDG</a>) will host a conference call at 11:00 AM ET on May 9, 2023, to discuss Q2 2023 earnings results.</p>\\n<h3>How to Attend TransDigm Gr (TDG) Conference Call</h3>\\n<p><a href=\"https://edge.media-server.com/mmc/p/3qt2zk2b\">Follow this link to access the live webcast.</a></p>\\n<p>To listen to the call, dial  (US) or  (International)</p>\\n<h3>What Is an Earnings Conference Call?</h3>\\n<p>Earnings conference calls allow companies to talk about their recent earnings reports publicly, so that anyone who is interested can get more information on what happened and why it happened.</p>\\n<p>During a call, a company will discuss future performance expectations as well as go over their quarterly financial results. Most investors have benefitted from listening closely to how management responds to questions, in order to get a feel for how confident they are in the company\\'s current and future performance.</p>\\n<p>If you want to take a deeper dive into TransDigm Gr earnings, <a href=\"https://www.benzinga.com/quote/TDG/earnings\">you can follow their earnings on Benzinga.</a></p>\\n<p><em>This article was generated by Benzinga\\'s automated content engine and reviewed by an editor</em></p>', 'symbols': ['TDG'], 'source': 'benzinga'}\n",
      "[<unstructured.documents.elements.NarrativeText object at 0x7f790ad75a50>, <unstructured.documents.elements.Title object at 0x7f790ad75e10>, <unstructured.documents.elements.NarrativeText object at 0x7f790ad75a80>, <unstructured.documents.elements.NarrativeText object at 0x7f790ad759f0>, <unstructured.documents.elements.Title object at 0x7f790ad75930>, <unstructured.documents.elements.NarrativeText object at 0x7f790ad758a0>, <unstructured.documents.elements.NarrativeText object at 0x7f790ad75810>, <unstructured.documents.elements.NarrativeText object at 0x7f790ad75780>, <unstructured.documents.elements.NarrativeText object at 0x7f790ad756f0>]\n",
      "[{\"T\":\"n\",\"id\":32168896,\"headline\":\"Crypto Giant Coinbase Defies Regulatory Hurdles, Launches Offshore Derivatives Exchange\",\"summary\":\"Coinbase Global Inc. (NASDAQ: COIN) is diversifying its business by launching an international derivatives exchange for institutional crypto traders outside the United States.\",\"author\":\"Murtuza Merchant\",\"created_at\":\"2023-05-02T18:45:58Z\",\"updated_at\":\"2023-05-02T18:45:59Z\",\"url\":\"https://www.benzinga.com/markets/cryptocurrency/23/05/32168896/crypto-giant-coinbase-defies-regulatory-hurdles-launches-offshore-derivatives-exchange\",\"content\":\"\\u003cp\\u003e\\u003cstrong\\u003eCoinbase Global Inc. \\u003c/strong\\u003e(NASDAQ:\\u003ca class=\\\"ticker\\\" href=\\\"https://www.benzinga.com/stock/COIN#NASDAQ\\\"\\u003eCOIN\\u003c/a\\u003e) is diversifying its business by launching an international derivatives exchange for institutional crypto traders outside the United States.\\u003c/p\\u003e\\r\\n\\r\\n\\u003cp\\u003eThe Coinbase International Exchange will list \\u003cstrong\\u003eBitcoin \\u003c/strong\\u003e(CRYPTO: \\u003ca class=\\\"ticker\\\" href=\\\"https://www.benzinga.com/quote/btc/usd\\\"\\u003eBTC\\u003c/a\\u003e) and \\u003cstrong\\u003eEther \\u003c/strong\\u003e(CRYPTO: \\u003ca class=\\\"ticker\\\" href=\\\"https://www.benzinga.com/quote/eth/usd\\\"\\u003eETH\\u003c/a\\u003e) perpetual futures starting this week, after receiving a license from the Bermuda Monetary Authority in April.\\u003c/p\\u003e\\r\\n\\r\\n\\u003cp\\u003eThe San Francisco-based company is entering a market largely occupied by offshore players such as \\u003cstrong\\u003eBinance \\u003c/strong\\u003e(CRYPTO: \\u003ca class=\\\"ticker\\\" href=\\\"https://www.benzinga.com/quote/bnb/usd\\\"\\u003eBNB\\u003c/a\\u003e) and the now-collapsed \\u003cstrong\\u003eFTX \\u003c/strong\\u003e(CRYPTO: \\u003ca class=\\\"ticker\\\" href=\\\"https://www.benzinga.com/quote/ftt/usd\\\"\\u003eFTT\\u003c/a\\u003e).\\u003c/p\\u003e\\r\\n\\r\\n\\u003cp\\u003eCoinbase is grappling with legal uncertainty in the U.S., \\u003ca href=\\\"https://www.benzinga.com/markets/cryptocurrency/23/03/31466087/sec-targets-coinbase-with-wells-notice-and-threatens-enforcement-actions-ceo-brian-armstro\\\"\\u003eas it received a Wells Notice\\u003c/a\\u003e from the Securities and Exchange Commission in March, indicating potential legal action.\\u003c/p\\u003e\\r\\n\\r\\n\\u003cp\\u003e\\u003cem\\u003eAlso Read:\\u0026nbsp;\\u003ca href=\\\"https://www.benzinga.com/markets/cryptocurrency/23/05/32125610/coinmarketcaps-killer-whales-the-shark-tank-of-web3-and-nft-entrepreneurship\\\"\\u003eCoinMarketCap\\u0026#39;s \\u0026#39;Killer Whales\\u0026#39;: The Shark Tank Of Web3 And NFT Entrepreneurship\\u003c/a\\u003e\\u003c/em\\u003e\\u003c/p\\u003e\\r\\n\\r\\n\\u003cp\\u003eA company spokesperson \\u003ca href=\\\"https://www.bloomberg.com/news/articles/2023-05-02/coinbase-international-exchange-launches-as-tensions-with-us-regulators-grow?leadSource=uverify wall\\\"\\u003etold \\u003c/a\\u003eBloomberg, \\u0026quot;Coinbase continues to await approval to be able to offer futures directly to our customers in the U.S.\\u0026quot; Initially, the international exchange in Bermuda will only be available to non-US institutional clients.\\u003c/p\\u003e\\r\\n\\r\\n\\u003cp\\u003ePerpetual futures, popular among crypto traders for hedging or speculating on the price of underlying tokens using leverage, don\\u0026#39;t have an expiration date.\\u003c/p\\u003e\\r\\n\\r\\n\\u003cp\\u003eCoinbase International Exchange will initially offer up to five times leverage, and all trading will be settled in USD Coin, the stablecoin issued by \\u003cstrong\\u003eCircle Internet Financial Ltd.\\u003c/strong\\u003e (CRYPTO: \\u003ca class=\\\"ticker\\\" href=\\\"https://www.benzinga.com/quote/\\\"\\u003eUSDC\\u003c/a\\u003e), a Coinbase partner.\\u003c/p\\u003e\\r\\n\\r\\n\\u003cp\\u003eIn a blog post, Coinbase stated its commitment to the U.S. market but expressed disappointment in the country\\u0026#39;s \\u003ca href=\\\"https://www.benzinga.com/markets/cryptocurrency/23/03/31509547/regulation-rumble-unpacking-the-coinbase-sec-showdown-and-what-it-means-for-crypto\\\"\\u003e\\u0026quot;regulation by enforcement\\u0026quot; approach.\\u003c/a\\u003e\\u003c/p\\u003e\\r\\n\\r\\n\\u003cp\\u003eThe company derived 84% of its revenue from the U.S. last year.\\u003c/p\\u003e\\r\\n\\r\\n\\u003cp\\u003eSome earlier attempts at global expansion, such as operations in Japan, faced challenges and were \\u003ca href=\\\"https://www.benzinga.com/markets/cryptocurrency/23/04/31857445/coinbase-considers-abandoning-us-the-shocking-revelation-that-could-shake-the-crypto-world\\\"\\u003eeventually shut down.\\u003c/a\\u003e\\u003c/p\\u003e\\r\\n\\r\\n\\u003cp\\u003e\\u003cem\\u003eRead Next:\\u0026nbsp;\\u003ca href=\\\"https://www.benzinga.com/markets/cryptocurrency/23/04/32081554/could-microstrategys-bitcoin-stash-make-it-the-richest-company-in-the-world-2\\\"\\u003eMicroStrategy\\u0026#39;s Bitcoin Stash Could Potentially Make It The World\\u0026#39;s Richest Company\\u003c/a\\u003e\\u003c/em\\u003e\\u003c/p\\u003e\\r\\n   \",\"symbols\":[\"BNBUSD\",\"BTCUSD\",\"COIN\",\"ETHUSD\",\"FTTUSD\",\"USDCUSD\"],\"source\":\"benzinga\"}]\n",
      "{'T': 'n', 'id': 32168896, 'headline': 'Crypto Giant Coinbase Defies Regulatory Hurdles, Launches Offshore Derivatives Exchange', 'summary': 'Coinbase Global Inc. (NASDAQ: COIN) is diversifying its business by launching an international derivatives exchange for institutional crypto traders outside the United States.', 'author': 'Murtuza Merchant', 'created_at': '2023-05-02T18:45:58Z', 'updated_at': '2023-05-02T18:45:59Z', 'url': 'https://www.benzinga.com/markets/cryptocurrency/23/05/32168896/crypto-giant-coinbase-defies-regulatory-hurdles-launches-offshore-derivatives-exchange', 'content': '<p><strong>Coinbase Global Inc. </strong>(NASDAQ:<a class=\"ticker\" href=\"https://www.benzinga.com/stock/COIN#NASDAQ\">COIN</a>) is diversifying its business by launching an international derivatives exchange for institutional crypto traders outside the United States.</p>\\r\\n\\r\\n<p>The Coinbase International Exchange will list <strong>Bitcoin </strong>(CRYPTO: <a class=\"ticker\" href=\"https://www.benzinga.com/quote/btc/usd\">BTC</a>) and <strong>Ether </strong>(CRYPTO: <a class=\"ticker\" href=\"https://www.benzinga.com/quote/eth/usd\">ETH</a>) perpetual futures starting this week, after receiving a license from the Bermuda Monetary Authority in April.</p>\\r\\n\\r\\n<p>The San Francisco-based company is entering a market largely occupied by offshore players such as <strong>Binance </strong>(CRYPTO: <a class=\"ticker\" href=\"https://www.benzinga.com/quote/bnb/usd\">BNB</a>) and the now-collapsed <strong>FTX </strong>(CRYPTO: <a class=\"ticker\" href=\"https://www.benzinga.com/quote/ftt/usd\">FTT</a>).</p>\\r\\n\\r\\n<p>Coinbase is grappling with legal uncertainty in the U.S., <a href=\"https://www.benzinga.com/markets/cryptocurrency/23/03/31466087/sec-targets-coinbase-with-wells-notice-and-threatens-enforcement-actions-ceo-brian-armstro\">as it received a Wells Notice</a> from the Securities and Exchange Commission in March, indicating potential legal action.</p>\\r\\n\\r\\n<p><em>Also Read:&nbsp;<a href=\"https://www.benzinga.com/markets/cryptocurrency/23/05/32125610/coinmarketcaps-killer-whales-the-shark-tank-of-web3-and-nft-entrepreneurship\">CoinMarketCap&#39;s &#39;Killer Whales&#39;: The Shark Tank Of Web3 And NFT Entrepreneurship</a></em></p>\\r\\n\\r\\n<p>A company spokesperson <a href=\"https://www.bloomberg.com/news/articles/2023-05-02/coinbase-international-exchange-launches-as-tensions-with-us-regulators-grow?leadSource=uverify wall\">told </a>Bloomberg, &quot;Coinbase continues to await approval to be able to offer futures directly to our customers in the U.S.&quot; Initially, the international exchange in Bermuda will only be available to non-US institutional clients.</p>\\r\\n\\r\\n<p>Perpetual futures, popular among crypto traders for hedging or speculating on the price of underlying tokens using leverage, don&#39;t have an expiration date.</p>\\r\\n\\r\\n<p>Coinbase International Exchange will initially offer up to five times leverage, and all trading will be settled in USD Coin, the stablecoin issued by <strong>Circle Internet Financial Ltd.</strong> (CRYPTO: <a class=\"ticker\" href=\"https://www.benzinga.com/quote/\">USDC</a>), a Coinbase partner.</p>\\r\\n\\r\\n<p>In a blog post, Coinbase stated its commitment to the U.S. market but expressed disappointment in the country&#39;s <a href=\"https://www.benzinga.com/markets/cryptocurrency/23/03/31509547/regulation-rumble-unpacking-the-coinbase-sec-showdown-and-what-it-means-for-crypto\">&quot;regulation by enforcement&quot; approach.</a></p>\\r\\n\\r\\n<p>The company derived 84% of its revenue from the U.S. last year.</p>\\r\\n\\r\\n<p>Some earlier attempts at global expansion, such as operations in Japan, faced challenges and were <a href=\"https://www.benzinga.com/markets/cryptocurrency/23/04/31857445/coinbase-considers-abandoning-us-the-shocking-revelation-that-could-shake-the-crypto-world\">eventually shut down.</a></p>\\r\\n\\r\\n<p><em>Read Next:&nbsp;<a href=\"https://www.benzinga.com/markets/cryptocurrency/23/04/32081554/could-microstrategys-bitcoin-stash-make-it-the-richest-company-in-the-world-2\">MicroStrategy&#39;s Bitcoin Stash Could Potentially Make It The World&#39;s Richest Company</a></em></p>\\r\\n   ', 'symbols': ['BNBUSD', 'BTCUSD', 'COIN', 'ETHUSD', 'FTTUSD', 'USDCUSD'], 'source': 'benzinga'}\n",
      "[<unstructured.documents.elements.NarrativeText object at 0x7f790ad77670>, <unstructured.documents.elements.NarrativeText object at 0x7f791a4a9f30>, <unstructured.documents.elements.NarrativeText object at 0x7f791a4a9ff0>, <unstructured.documents.elements.NarrativeText object at 0x7f791a4aa140>, <unstructured.documents.elements.Title object at 0x7f791a4aa2f0>, <unstructured.documents.elements.NarrativeText object at 0x7f791a4a9000>, <unstructured.documents.elements.NarrativeText object at 0x7f791a4a8fa0>, <unstructured.documents.elements.NarrativeText object at 0x7f791a4a8bb0>, <unstructured.documents.elements.NarrativeText object at 0x7f791a4a8310>, <unstructured.documents.elements.NarrativeText object at 0x7f791a4aa560>, <unstructured.documents.elements.NarrativeText object at 0x7f791a4abf70>, <unstructured.documents.elements.Title object at 0x7f791a4aa4a0>]\n"
     ]
    },
    {
     "name": "stdout",
     "output_type": "stream",
     "text": [
      "[{\"T\":\"n\",\"id\":32169895,\"headline\":\"Building A Stock Portfolio? Here\\u0026#39;s Your Competition\",\"summary\":\"While there\\u0026#39;s no silver bullet for building a portfolio, you don\\u0026#39;t have to be a Wall Street strategist to do it. Benchmarks are a useful guidepost, and you can learn a lot from them about your performance and strategy as you move along.\",\"author\":\"Tornado\",\"created_at\":\"2023-05-02T18:47:48Z\",\"updated_at\":\"2023-05-02T18:47:48Z\",\"url\":\"https://www.benzinga.com/23/05/32169895/building-a-stock-portfolio-heres-your-competition\",\"content\":\"\\u003cp\\u003eWhile there\\u0026#39;s no silver bullet for building a portfolio, you don\\u0026#39;t have to be a Wall Street strategist to do it. Benchmarks are a useful guidepost, and you can learn a lot from them about your performance and strategy as you move along.\\u003c/p\\u003e\\r\\n\\r\\n\\u003cp\\u003eConsider the S\\u0026amp;P 500. It features around 500 companies and covers 80% of available US public equity market capitalization, and it\\u0026#39;s a \\u0026lsquo;go-to\\u0026#39; barometer for many investors. The best part is, you can use it to understand the broad market and make adjustments to your own strategy.\\u003c/p\\u003e\\r\\n\\r\\n\\u003cp\\u003eOne of the first things to notice is the familiar names at the top. As of April 8, 2023, the top stocks by market weight in the index are Apple Inc. (NASDAQ:\\u003ca class=\\\"ticker\\\" href=\\\"https://www.benzinga.com/stock/AAPL#NASDAQ\\\"\\u003eAAPL\\u003c/a\\u003e), Microsoft Corp. (NASDAQ:\\u003ca class=\\\"ticker\\\" href=\\\"https://www.benzinga.com/stock/MSFT#NASDAQ\\\"\\u003eMSFT\\u003c/a\\u003e), Amazon.com Inc. (NASDAQ:\\u003ca class=\\\"ticker\\\" href=\\\"https://www.benzinga.com/stock/AMZN#NASDAQ\\\"\\u003eAMZN\\u003c/a\\u003e), NVIDIA Corporation (NASDAQ:\\u003ca class=\\\"ticker\\\" href=\\\"https://www.benzinga.com/stock/NVDA#NASDAQ\\\"\\u003eNVDA\\u003c/a\\u003e), Alphabet Inc. Class C (NASDAQ:\\u003ca class=\\\"ticker\\\" href=\\\"https://www.benzinga.com/stock/GOOG#NASDAQ\\\"\\u003eGOOG\\u003c/a\\u003e), Berkshire Hathaway Inc. Class B (NYSE: \\u003ca class=\\\"ticker\\\" href=\\\"https://www.benzinga.com/stock/brk-b#NYSE\\\"\\u003eBRK-B\\u003c/a\\u003e), META Platforms Inc (NASDAQ:\\u003ca class=\\\"ticker\\\" href=\\\"https://www.benzinga.com/stock/META#NASDAQ\\\"\\u003eMETA\\u003c/a\\u003e), Exxon Mobil Corp. (NYSE:\\u003ca class=\\\"ticker\\\" href=\\\"https://www.benzinga.com/stock/XOM#NYSE\\\"\\u003eXOM\\u003c/a\\u003e) and UnitedHealth Group Inc. (NYSE:\\u003ca class=\\\"ticker\\\" href=\\\"https://www.benzinga.com/stock/UNH#NYSE\\\"\\u003eUNH\\u003c/a\\u003e).\\u003c/p\\u003e\\r\\n\\r\\n\\u003cp\\u003eLooking deeper, the S\\u0026amp;P has a huge weighting in technology, at 26%, and much smaller exposure for energy, materials, utilities and real estate. As of April 8, 2023, the weights are as follows:\\u003c/p\\u003e\\r\\n\\r\\n\\u003cp\\u003eInformation technology: 25.8%\\u003c/p\\u003e\\r\\n\\r\\n\\u003cp\\u003eHealth care: 14.4%\\u003c/p\\u003e\\r\\n\\r\\n\\u003cp\\u003eFinancials: 13.1%\\u003c/p\\u003e\\r\\n\\r\\n\\u003cp\\u003eConsumer discretionary: 9.9%\\u003c/p\\u003e\\r\\n\\r\\n\\u003cp\\u003eIndustrials: 8.4%\\u003c/p\\u003e\\r\\n\\r\\n\\u003cp\\u003eCommunication services: 8.3%\\u003c/p\\u003e\\r\\n\\r\\n\\u003cp\\u003eConsumer staples: 7.4%\\u003c/p\\u003e\\r\\n\\r\\n\\u003cp\\u003eEnergy: 4.7%\\u003c/p\\u003e\\r\\n\\r\\n\\u003cp\\u003eUtilities: 2.9%\\u003c/p\\u003e\\r\\n\\r\\n\\u003cp\\u003eMaterials: 2.6%\\u003c/p\\u003e\\r\\n\\r\\n\\u003cp\\u003eReal estate: 2.5%\\u003c/p\\u003e\\r\\n\\r\\n\\u003cp\\u003eThe weightings are strongly influenced by recent performance and there are significant changes over time.\\u003c/p\\u003e\\r\\n\\r\\n\\u003cp\\u003eSo how can you use the S\\u0026amp;P in your own process? Start by understanding your performance in the context of the broader market. It\\u0026#39;ll help you understand your strengths and weaknesses as you see how your portfolio is tracking against the index, and why.\\u003c/p\\u003e\\r\\n\\r\\n\\u003cp\\u003eConsistent underperformance versus the index could be an indication that you\\u0026#39;re missing out on key trends in technology, which has the biggest weighting in the index. At the same time, outperformance could indicate leverage to trends that have a low weighting in the index - energy, for example. This holds true for strategy too. Overweighting and underweighting sectors may enhance performance during market cycles.\\u003c/p\\u003e\\r\\n\\r\\n\\u003cp\\u003eThe key is to understand how your portfolio squares against the broader market, where you might be exposed to higher risk but unaware of it, and where you might want to make adjustments over time.\\u003c/p\\u003e\\r\\n\\r\\n\\u003cp\\u003eSource: \\u003ca href=\\\"https://www.spglobal.com/spdji/en/indices/equity/sp-500/#overview\\\" title=\\\"https://www.spglobal.com/spdji/en/indices/equity/sp-500/#overview\\\"\\u003ehttps://www.spglobal.com/spdji/en/indices/equity/sp-500/#overview\\u003c/a\\u003e\\u003c/p\\u003e\\r\\n\\r\\n\\u003cp\\u003eAll views expressed in this article are the authors\\u0026#39; own and do not necessarily reflect the position of Nvstr Financial LLC dba Tornado (\\u0026quot;Tornado\\u0026quot;) or its affiliates. This communication is for discussion purposes only. Neither Tornado nor the authors endorse any linked content. Statements herein may not be representative of the typical experience of Tornado customers and are no guarantee of future performance or success. The contents of this article and of tornado.com are not investment advice or a recommendation of a securities transaction or investment strategy. This is not an order, solicitation, or offer to buy or sell securities or business interests. Investing in stocks is inherently risky; using margin may increase these risks.\\u003c/p\\u003e\\r\\n\\r\\n\\u003cp\\u003eTornado is a member firm of FINRA and SIPC. Further information can be found at tornado.com/about and on FINRA\\u0026#39;s BrokerCheck website.\\u003c/p\\u003e\\r\\n \",\"symbols\":[\"AAPL\",\"AMZN\",\"BRK-B\",\"GOOG\",\"META\",\"MSFT\",\"NVDA\",\"UNH\",\"XOM\"],\"source\":\"benzinga\"}]\n",
      "{'T': 'n', 'id': 32169895, 'headline': 'Building A Stock Portfolio? Here&#39;s Your Competition', 'summary': 'While there&#39;s no silver bullet for building a portfolio, you don&#39;t have to be a Wall Street strategist to do it. Benchmarks are a useful guidepost, and you can learn a lot from them about your performance and strategy as you move along.', 'author': 'Tornado', 'created_at': '2023-05-02T18:47:48Z', 'updated_at': '2023-05-02T18:47:48Z', 'url': 'https://www.benzinga.com/23/05/32169895/building-a-stock-portfolio-heres-your-competition', 'content': '<p>While there&#39;s no silver bullet for building a portfolio, you don&#39;t have to be a Wall Street strategist to do it. Benchmarks are a useful guidepost, and you can learn a lot from them about your performance and strategy as you move along.</p>\\r\\n\\r\\n<p>Consider the S&amp;P 500. It features around 500 companies and covers 80% of available US public equity market capitalization, and it&#39;s a &lsquo;go-to&#39; barometer for many investors. The best part is, you can use it to understand the broad market and make adjustments to your own strategy.</p>\\r\\n\\r\\n<p>One of the first things to notice is the familiar names at the top. As of April 8, 2023, the top stocks by market weight in the index are Apple Inc. (NASDAQ:<a class=\"ticker\" href=\"https://www.benzinga.com/stock/AAPL#NASDAQ\">AAPL</a>), Microsoft Corp. (NASDAQ:<a class=\"ticker\" href=\"https://www.benzinga.com/stock/MSFT#NASDAQ\">MSFT</a>), Amazon.com Inc. (NASDAQ:<a class=\"ticker\" href=\"https://www.benzinga.com/stock/AMZN#NASDAQ\">AMZN</a>), NVIDIA Corporation (NASDAQ:<a class=\"ticker\" href=\"https://www.benzinga.com/stock/NVDA#NASDAQ\">NVDA</a>), Alphabet Inc. Class C (NASDAQ:<a class=\"ticker\" href=\"https://www.benzinga.com/stock/GOOG#NASDAQ\">GOOG</a>), Berkshire Hathaway Inc. Class B (NYSE: <a class=\"ticker\" href=\"https://www.benzinga.com/stock/brk-b#NYSE\">BRK-B</a>), META Platforms Inc (NASDAQ:<a class=\"ticker\" href=\"https://www.benzinga.com/stock/META#NASDAQ\">META</a>), Exxon Mobil Corp. (NYSE:<a class=\"ticker\" href=\"https://www.benzinga.com/stock/XOM#NYSE\">XOM</a>) and UnitedHealth Group Inc. (NYSE:<a class=\"ticker\" href=\"https://www.benzinga.com/stock/UNH#NYSE\">UNH</a>).</p>\\r\\n\\r\\n<p>Looking deeper, the S&amp;P has a huge weighting in technology, at 26%, and much smaller exposure for energy, materials, utilities and real estate. As of April 8, 2023, the weights are as follows:</p>\\r\\n\\r\\n<p>Information technology: 25.8%</p>\\r\\n\\r\\n<p>Health care: 14.4%</p>\\r\\n\\r\\n<p>Financials: 13.1%</p>\\r\\n\\r\\n<p>Consumer discretionary: 9.9%</p>\\r\\n\\r\\n<p>Industrials: 8.4%</p>\\r\\n\\r\\n<p>Communication services: 8.3%</p>\\r\\n\\r\\n<p>Consumer staples: 7.4%</p>\\r\\n\\r\\n<p>Energy: 4.7%</p>\\r\\n\\r\\n<p>Utilities: 2.9%</p>\\r\\n\\r\\n<p>Materials: 2.6%</p>\\r\\n\\r\\n<p>Real estate: 2.5%</p>\\r\\n\\r\\n<p>The weightings are strongly influenced by recent performance and there are significant changes over time.</p>\\r\\n\\r\\n<p>So how can you use the S&amp;P in your own process? Start by understanding your performance in the context of the broader market. It&#39;ll help you understand your strengths and weaknesses as you see how your portfolio is tracking against the index, and why.</p>\\r\\n\\r\\n<p>Consistent underperformance versus the index could be an indication that you&#39;re missing out on key trends in technology, which has the biggest weighting in the index. At the same time, outperformance could indicate leverage to trends that have a low weighting in the index - energy, for example. This holds true for strategy too. Overweighting and underweighting sectors may enhance performance during market cycles.</p>\\r\\n\\r\\n<p>The key is to understand how your portfolio squares against the broader market, where you might be exposed to higher risk but unaware of it, and where you might want to make adjustments over time.</p>\\r\\n\\r\\n<p>Source: <a href=\"https://www.spglobal.com/spdji/en/indices/equity/sp-500/#overview\" title=\"https://www.spglobal.com/spdji/en/indices/equity/sp-500/#overview\">https://www.spglobal.com/spdji/en/indices/equity/sp-500/#overview</a></p>\\r\\n\\r\\n<p>All views expressed in this article are the authors&#39; own and do not necessarily reflect the position of Nvstr Financial LLC dba Tornado (&quot;Tornado&quot;) or its affiliates. This communication is for discussion purposes only. Neither Tornado nor the authors endorse any linked content. Statements herein may not be representative of the typical experience of Tornado customers and are no guarantee of future performance or success. The contents of this article and of tornado.com are not investment advice or a recommendation of a securities transaction or investment strategy. This is not an order, solicitation, or offer to buy or sell securities or business interests. Investing in stocks is inherently risky; using margin may increase these risks.</p>\\r\\n\\r\\n<p>Tornado is a member firm of FINRA and SIPC. Further information can be found at tornado.com/about and on FINRA&#39;s BrokerCheck website.</p>\\r\\n ', 'symbols': ['AAPL', 'AMZN', 'BRK-B', 'GOOG', 'META', 'MSFT', 'NVDA', 'UNH', 'XOM'], 'source': 'benzinga'}\n",
      "[<unstructured.documents.elements.NarrativeText object at 0x7f791a4a8ac0>, <unstructured.documents.elements.NarrativeText object at 0x7f791a4abf40>, <unstructured.documents.elements.Title object at 0x7f791a4aa230>, <unstructured.documents.elements.Title object at 0x7f791a4a9660>, <unstructured.documents.elements.Title object at 0x7f791a4abe80>, <unstructured.documents.elements.Title object at 0x7f790ad76ad0>, <unstructured.documents.elements.Title object at 0x7f790ad74d00>, <unstructured.documents.elements.Title object at 0x7f790ad768c0>, <unstructured.documents.elements.Title object at 0x7f790ad76380>, <unstructured.documents.elements.Title object at 0x7f790ad74100>, <unstructured.documents.elements.Text object at 0x7f790ad74160>, <unstructured.documents.elements.NarrativeText object at 0x7f790ad759f0>, <unstructured.documents.elements.Title object at 0x7f790ad74340>, <unstructured.documents.elements.Title object at 0x7f790ad742b0>, <unstructured.documents.elements.Title object at 0x7f790ad74280>, <unstructured.documents.elements.Title object at 0x7f790ad75390>, <unstructured.documents.elements.Title object at 0x7f790ad74370>, <unstructured.documents.elements.Title object at 0x7f790ad74400>, <unstructured.documents.elements.Title object at 0x7f790ad753f0>, <unstructured.documents.elements.Title object at 0x7f790ad75240>, <unstructured.documents.elements.Title object at 0x7f790ad75270>, <unstructured.documents.elements.Title object at 0x7f790ad754e0>, <unstructured.documents.elements.Title object at 0x7f790ad75c60>, <unstructured.documents.elements.NarrativeText object at 0x7f790ad755d0>, <unstructured.documents.elements.NarrativeText object at 0x7f790ad75540>, <unstructured.documents.elements.NarrativeText object at 0x7f790ad75450>, <unstructured.documents.elements.NarrativeText object at 0x7f790ad75870>, <unstructured.documents.elements.Title object at 0x7f790ad75720>, <unstructured.documents.elements.NarrativeText object at 0x7f790ad75900>, <unstructured.documents.elements.NarrativeText object at 0x7f790ad75990>]\n"
     ]
    },
    {
     "name": "stdout",
     "output_type": "stream",
     "text": [
      "[{\"T\":\"n\",\"id\":32169895,\"headline\":\"Building A Stock Portfolio? Here\\u0026#39;s Your Competition\",\"summary\":\"While there\\u0026#39;s no silver bullet for building a portfolio, you don\\u0026#39;t have to be a Wall Street strategist to do it. Benchmarks are a useful guidepost, and you can learn a lot from them about your performance and strategy as you move along.\",\"author\":\"Tornado\",\"created_at\":\"2023-05-02T18:47:48Z\",\"updated_at\":\"2023-05-02T18:48:13Z\",\"url\":\"https://www.benzinga.com/23/05/32169895/building-a-stock-portfolio-heres-your-competition\",\"content\":\"\\u003cp\\u003eWhile there\\u0026#39;s no silver bullet for building a portfolio, you don\\u0026#39;t have to be a Wall Street strategist to do it. Benchmarks are a useful guidepost, and you can learn a lot from them about your performance and strategy as you move along.\\u003c/p\\u003e\\r\\n\\r\\n\\u003cp\\u003eConsider the S\\u0026amp;P 500. It features around 500 companies and covers 80% of available US public equity market capitalization, and it\\u0026#39;s a \\u0026lsquo;go-to\\u0026#39; barometer for many investors. The best part is, you can use it to understand the broad market and make adjustments to your own strategy.\\u003c/p\\u003e\\r\\n\\r\\n\\u003cp\\u003eOne of the first things to notice is the familiar names at the top. As of April 8, 2023, the top stocks by market weight in the index are Apple Inc. (NASDAQ:\\u003ca class=\\\"ticker\\\" href=\\\"https://www.benzinga.com/stock/AAPL#NASDAQ\\\"\\u003eAAPL\\u003c/a\\u003e), Microsoft Corp. (NASDAQ:\\u003ca class=\\\"ticker\\\" href=\\\"https://www.benzinga.com/stock/MSFT#NASDAQ\\\"\\u003eMSFT\\u003c/a\\u003e), Amazon.com Inc. (NASDAQ:\\u003ca class=\\\"ticker\\\" href=\\\"https://www.benzinga.com/stock/AMZN#NASDAQ\\\"\\u003eAMZN\\u003c/a\\u003e), NVIDIA Corporation (NASDAQ:\\u003ca class=\\\"ticker\\\" href=\\\"https://www.benzinga.com/stock/NVDA#NASDAQ\\\"\\u003eNVDA\\u003c/a\\u003e), Alphabet Inc. Class C (NASDAQ:\\u003ca class=\\\"ticker\\\" href=\\\"https://www.benzinga.com/stock/GOOG#NASDAQ\\\"\\u003eGOOG\\u003c/a\\u003e), Berkshire Hathaway Inc. Class B (NYSE: \\u003ca class=\\\"ticker\\\" href=\\\"https://www.benzinga.com/stock/brk-b#NYSE\\\"\\u003eBRK-B\\u003c/a\\u003e), META Platforms Inc (NASDAQ:\\u003ca class=\\\"ticker\\\" href=\\\"https://www.benzinga.com/stock/META#NASDAQ\\\"\\u003eMETA\\u003c/a\\u003e), Exxon Mobil Corp. (NYSE:\\u003ca class=\\\"ticker\\\" href=\\\"https://www.benzinga.com/stock/XOM#NYSE\\\"\\u003eXOM\\u003c/a\\u003e) and UnitedHealth Group Inc. (NYSE:\\u003ca class=\\\"ticker\\\" href=\\\"https://www.benzinga.com/stock/UNH#NYSE\\\"\\u003eUNH\\u003c/a\\u003e).\\u003c/p\\u003e\\r\\n\\r\\n\\u003cp\\u003eLooking deeper, the S\\u0026amp;P has a huge weighting in technology, at 26%, and much smaller exposure for energy, materials, utilities and real estate. As of April 8, 2023, the weights are as follows:\\u003c/p\\u003e\\r\\n\\r\\n\\u003cp\\u003eInformation technology: 25.8%\\u003c/p\\u003e\\r\\n\\r\\n\\u003cp\\u003eHealth care: 14.4%\\u003c/p\\u003e\\r\\n\\r\\n\\u003cp\\u003eFinancials: 13.1%\\u003c/p\\u003e\\r\\n\\r\\n\\u003cp\\u003eConsumer discretionary: 9.9%\\u003c/p\\u003e\\r\\n\\r\\n\\u003cp\\u003eIndustrials: 8.4%\\u003c/p\\u003e\\r\\n\\r\\n\\u003cp\\u003eCommunication services: 8.3%\\u003c/p\\u003e\\r\\n\\r\\n\\u003cp\\u003eConsumer staples: 7.4%\\u003c/p\\u003e\\r\\n\\r\\n\\u003cp\\u003eEnergy: 4.7%\\u003c/p\\u003e\\r\\n\\r\\n\\u003cp\\u003eUtilities: 2.9%\\u003c/p\\u003e\\r\\n\\r\\n\\u003cp\\u003eMaterials: 2.6%\\u003c/p\\u003e\\r\\n\\r\\n\\u003cp\\u003eReal estate: 2.5%\\u003c/p\\u003e\\r\\n\\r\\n\\u003cp\\u003eThe weightings are strongly influenced by recent performance and there are significant changes over time.\\u003c/p\\u003e\\r\\n\\r\\n\\u003cp\\u003eSo how can you use the S\\u0026amp;P in your own process? Start by understanding your performance in the context of the broader market. It\\u0026#39;ll help you understand your strengths and weaknesses as you see how your portfolio is tracking against the index, and why.\\u003c/p\\u003e\\r\\n\\r\\n\\u003cp\\u003eConsistent underperformance versus the index could be an indication that you\\u0026#39;re missing out on key trends in technology, which has the biggest weighting in the index. At the same time, outperformance could indicate leverage to trends that have a low weighting in the index - energy, for example. This holds true for strategy too. Overweighting and underweighting sectors may enhance performance during market cycles.\\u003c/p\\u003e\\r\\n\\r\\n\\u003cp\\u003eThe key is to understand how your portfolio squares against the broader market, where you might be exposed to higher risk but unaware of it, and where you might want to make adjustments over time.\\u003c/p\\u003e\\r\\n\\r\\n\\u003cp\\u003eSource: \\u003ca href=\\\"https://www.spglobal.com/spdji/en/indices/equity/sp-500/#overview\\\" title=\\\"https://www.spglobal.com/spdji/en/indices/equity/sp-500/#overview\\\"\\u003ehttps://www.spglobal.com/spdji/en/indices/equity/sp-500/#overview\\u003c/a\\u003e\\u003c/p\\u003e\\r\\n\\r\\n\\u003cp\\u003eAll views expressed in this article are the authors\\u0026#39; own and do not necessarily reflect the position of Nvstr Financial LLC dba Tornado (\\u0026quot;Tornado\\u0026quot;) or its affiliates. This communication is for discussion purposes only. Neither Tornado nor the authors endorse any linked content. Statements herein may not be representative of the typical experience of Tornado customers and are no guarantee of future performance or success. The contents of this article and of tornado.com are not investment advice or a recommendation of a securities transaction or investment strategy. This is not an order, solicitation, or offer to buy or sell securities or business interests. Investing in stocks is inherently risky; using margin may increase these risks.\\u003c/p\\u003e\\r\\n\\r\\n\\u003cp\\u003eTornado is a member firm of FINRA and SIPC. Further information can be found at tornado.com/about and on FINRA\\u0026#39;s BrokerCheck website.\\u003c/p\\u003e\\r\\n \",\"symbols\":[\"AAPL\",\"AMZN\",\"BRK-B\",\"GOOG\",\"META\",\"MSFT\",\"NVDA\",\"UNH\",\"XOM\"],\"source\":\"benzinga\"}]\n",
      "{'T': 'n', 'id': 32169895, 'headline': 'Building A Stock Portfolio? Here&#39;s Your Competition', 'summary': 'While there&#39;s no silver bullet for building a portfolio, you don&#39;t have to be a Wall Street strategist to do it. Benchmarks are a useful guidepost, and you can learn a lot from them about your performance and strategy as you move along.', 'author': 'Tornado', 'created_at': '2023-05-02T18:47:48Z', 'updated_at': '2023-05-02T18:48:13Z', 'url': 'https://www.benzinga.com/23/05/32169895/building-a-stock-portfolio-heres-your-competition', 'content': '<p>While there&#39;s no silver bullet for building a portfolio, you don&#39;t have to be a Wall Street strategist to do it. Benchmarks are a useful guidepost, and you can learn a lot from them about your performance and strategy as you move along.</p>\\r\\n\\r\\n<p>Consider the S&amp;P 500. It features around 500 companies and covers 80% of available US public equity market capitalization, and it&#39;s a &lsquo;go-to&#39; barometer for many investors. The best part is, you can use it to understand the broad market and make adjustments to your own strategy.</p>\\r\\n\\r\\n<p>One of the first things to notice is the familiar names at the top. As of April 8, 2023, the top stocks by market weight in the index are Apple Inc. (NASDAQ:<a class=\"ticker\" href=\"https://www.benzinga.com/stock/AAPL#NASDAQ\">AAPL</a>), Microsoft Corp. (NASDAQ:<a class=\"ticker\" href=\"https://www.benzinga.com/stock/MSFT#NASDAQ\">MSFT</a>), Amazon.com Inc. (NASDAQ:<a class=\"ticker\" href=\"https://www.benzinga.com/stock/AMZN#NASDAQ\">AMZN</a>), NVIDIA Corporation (NASDAQ:<a class=\"ticker\" href=\"https://www.benzinga.com/stock/NVDA#NASDAQ\">NVDA</a>), Alphabet Inc. Class C (NASDAQ:<a class=\"ticker\" href=\"https://www.benzinga.com/stock/GOOG#NASDAQ\">GOOG</a>), Berkshire Hathaway Inc. Class B (NYSE: <a class=\"ticker\" href=\"https://www.benzinga.com/stock/brk-b#NYSE\">BRK-B</a>), META Platforms Inc (NASDAQ:<a class=\"ticker\" href=\"https://www.benzinga.com/stock/META#NASDAQ\">META</a>), Exxon Mobil Corp. (NYSE:<a class=\"ticker\" href=\"https://www.benzinga.com/stock/XOM#NYSE\">XOM</a>) and UnitedHealth Group Inc. (NYSE:<a class=\"ticker\" href=\"https://www.benzinga.com/stock/UNH#NYSE\">UNH</a>).</p>\\r\\n\\r\\n<p>Looking deeper, the S&amp;P has a huge weighting in technology, at 26%, and much smaller exposure for energy, materials, utilities and real estate. As of April 8, 2023, the weights are as follows:</p>\\r\\n\\r\\n<p>Information technology: 25.8%</p>\\r\\n\\r\\n<p>Health care: 14.4%</p>\\r\\n\\r\\n<p>Financials: 13.1%</p>\\r\\n\\r\\n<p>Consumer discretionary: 9.9%</p>\\r\\n\\r\\n<p>Industrials: 8.4%</p>\\r\\n\\r\\n<p>Communication services: 8.3%</p>\\r\\n\\r\\n<p>Consumer staples: 7.4%</p>\\r\\n\\r\\n<p>Energy: 4.7%</p>\\r\\n\\r\\n<p>Utilities: 2.9%</p>\\r\\n\\r\\n<p>Materials: 2.6%</p>\\r\\n\\r\\n<p>Real estate: 2.5%</p>\\r\\n\\r\\n<p>The weightings are strongly influenced by recent performance and there are significant changes over time.</p>\\r\\n\\r\\n<p>So how can you use the S&amp;P in your own process? Start by understanding your performance in the context of the broader market. It&#39;ll help you understand your strengths and weaknesses as you see how your portfolio is tracking against the index, and why.</p>\\r\\n\\r\\n<p>Consistent underperformance versus the index could be an indication that you&#39;re missing out on key trends in technology, which has the biggest weighting in the index. At the same time, outperformance could indicate leverage to trends that have a low weighting in the index - energy, for example. This holds true for strategy too. Overweighting and underweighting sectors may enhance performance during market cycles.</p>\\r\\n\\r\\n<p>The key is to understand how your portfolio squares against the broader market, where you might be exposed to higher risk but unaware of it, and where you might want to make adjustments over time.</p>\\r\\n\\r\\n<p>Source: <a href=\"https://www.spglobal.com/spdji/en/indices/equity/sp-500/#overview\" title=\"https://www.spglobal.com/spdji/en/indices/equity/sp-500/#overview\">https://www.spglobal.com/spdji/en/indices/equity/sp-500/#overview</a></p>\\r\\n\\r\\n<p>All views expressed in this article are the authors&#39; own and do not necessarily reflect the position of Nvstr Financial LLC dba Tornado (&quot;Tornado&quot;) or its affiliates. This communication is for discussion purposes only. Neither Tornado nor the authors endorse any linked content. Statements herein may not be representative of the typical experience of Tornado customers and are no guarantee of future performance or success. The contents of this article and of tornado.com are not investment advice or a recommendation of a securities transaction or investment strategy. This is not an order, solicitation, or offer to buy or sell securities or business interests. Investing in stocks is inherently risky; using margin may increase these risks.</p>\\r\\n\\r\\n<p>Tornado is a member firm of FINRA and SIPC. Further information can be found at tornado.com/about and on FINRA&#39;s BrokerCheck website.</p>\\r\\n ', 'symbols': ['AAPL', 'AMZN', 'BRK-B', 'GOOG', 'META', 'MSFT', 'NVDA', 'UNH', 'XOM'], 'source': 'benzinga'}\n",
      "[<unstructured.documents.elements.NarrativeText object at 0x7f790ad75810>, <unstructured.documents.elements.NarrativeText object at 0x7f790ad74f10>, <unstructured.documents.elements.Title object at 0x7f790ad75090>, <unstructured.documents.elements.Title object at 0x7f790ad74760>, <unstructured.documents.elements.Title object at 0x7f790ad75150>, <unstructured.documents.elements.Title object at 0x7f790ad75f00>, <unstructured.documents.elements.Title object at 0x7f790ad74fd0>, <unstructured.documents.elements.Title object at 0x7f790ad75030>, <unstructured.documents.elements.Title object at 0x7f790ad75b70>, <unstructured.documents.elements.Title object at 0x7f790ad74e80>, <unstructured.documents.elements.Text object at 0x7f790ad75cf0>, <unstructured.documents.elements.NarrativeText object at 0x7f790ad74df0>, <unstructured.documents.elements.Title object at 0x7f790ad74cd0>, <unstructured.documents.elements.Title object at 0x7f790ad74c70>, <unstructured.documents.elements.Title object at 0x7f790ad74ac0>, <unstructured.documents.elements.Title object at 0x7f790ad75de0>, <unstructured.documents.elements.Title object at 0x7f790ad74940>, <unstructured.documents.elements.Title object at 0x7f790ad74a90>, <unstructured.documents.elements.Title object at 0x7f790ad74730>, <unstructured.documents.elements.Title object at 0x7f790ad74700>, <unstructured.documents.elements.Title object at 0x7f790ad74490>, <unstructured.documents.elements.Title object at 0x7f790ad75c90>, <unstructured.documents.elements.Title object at 0x7f790ad75ba0>, <unstructured.documents.elements.NarrativeText object at 0x7f790ad75c00>, <unstructured.documents.elements.NarrativeText object at 0x7f790ad749d0>, <unstructured.documents.elements.NarrativeText object at 0x7f790ad74850>, <unstructured.documents.elements.NarrativeText object at 0x7f790ad832b0>, <unstructured.documents.elements.Title object at 0x7f790ad83e80>, <unstructured.documents.elements.NarrativeText object at 0x7f790ad83670>, <unstructured.documents.elements.NarrativeText object at 0x7f790ad83970>]\n"
     ]
    },
    {
     "name": "stderr",
     "output_type": "stream",
     "text": [
      "thread '<unnamed>' panicked at 'Box<dyn Any>', src/inputs.rs:465:31\n",
      "note: run with `RUST_BACKTRACE=1` environment variable to display a backtrace\n",
      "\n"
     ]
    },
    {
     "ename": "KeyboardInterrupt",
     "evalue": "(src/run.rs:120:17) interrupt signal received, all processes have been shut down",
     "output_type": "error",
     "traceback": [
      "\u001b[0;31m---------------------------------------------------------------------------\u001b[0m",
      "\u001b[0;31mKeyboardInterrupt\u001b[0m                         Traceback (most recent call last)",
      "Cell \u001b[0;32mIn[12], line 3\u001b[0m\n\u001b[1;32m      1\u001b[0m \u001b[38;5;28;01mfrom\u001b[39;00m \u001b[38;5;21;01mbytewax\u001b[39;00m\u001b[38;5;21;01m.\u001b[39;00m\u001b[38;5;21;01mtesting\u001b[39;00m \u001b[38;5;28;01mimport\u001b[39;00m run_main\n\u001b[0;32m----> 3\u001b[0m \u001b[43mrun_main\u001b[49m\u001b[43m(\u001b[49m\u001b[43mflow\u001b[49m\u001b[43m)\u001b[49m\n",
      "\u001b[0;31mKeyboardInterrupt\u001b[0m: (src/run.rs:120:17) interrupt signal received, all processes have been shut down"
     ]
    }
   ],
   "source": [
    "from bytewax.testing import run_main\n",
    "\n",
    "run_main(flow)"
   ]
  },
  {
   "cell_type": "code",
   "execution_count": null,
   "metadata": {},
   "outputs": [],
   "source": [
    "query_string = \"what is new on META\"\n",
    "inputs = tokenizer(query_string, padding=True, truncation=True, return_tensors=\"pt\", max_length=512)\n",
    "result = model(**inputs)\n",
    "embeddings = result.last_hidden_state[:, 0, :].cpu().detach().numpy()\n",
    "lst = embeddings.flatten().tolist()\n",
    "\n",
    "client\n",
    "query_vector = lst\n",
    "hits = client.search(\n",
    "    collection_name=\"test_collection\",\n",
    "    query_vector=query_vector,\n",
    "    limit=5  # Return 5 closest points\n",
    ")"
   ]
  }
 ],
 "metadata": {
  "colab": {
   "provenance": []
  },
  "kernelspec": {
   "display_name": "Python 3 (ipykernel)",
   "language": "python",
   "name": "python3"
  },
  "language_info": {
   "codemirror_mode": {
    "name": "ipython",
    "version": 3
   },
   "file_extension": ".py",
   "mimetype": "text/x-python",
   "name": "python",
   "nbconvert_exporter": "python",
   "pygments_lexer": "ipython3",
   "version": "3.10.0"
  }
 },
 "nbformat": 4,
 "nbformat_minor": 4
}
